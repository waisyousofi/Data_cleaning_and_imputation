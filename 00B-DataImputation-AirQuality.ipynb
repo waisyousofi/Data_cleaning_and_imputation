{
 "cells": [
  {
   "cell_type": "code",
   "execution_count": 44,
   "metadata": {},
   "outputs": [],
   "source": [
    "\n",
    "\"\"\"\n",
    "@filename: DataImputation-AirQuality.Py\n",
    "@dataset: airquality.csv\n",
    "@author: Waisullah Yousofi\n",
    "\"\"\"\n",
    "# import\n",
    "import pandas as pd\n",
    "import numpy as np\n",
    "#from sklearn.preprocessing import Imputer\n",
    "from sklearn.impute import SimpleImputer"
   ]
  },
  {
   "cell_type": "markdown",
   "metadata": {},
   "source": [
    "reading data file"
   ]
  },
  {
   "cell_type": "code",
   "execution_count": 45,
   "metadata": {},
   "outputs": [],
   "source": [
    "df = pd.read_csv('./data/airquality.csv')"
   ]
  },
  {
   "cell_type": "markdown",
   "metadata": {},
   "source": [
    "view Col Info"
   ]
  },
  {
   "cell_type": "code",
   "execution_count": 46,
   "metadata": {},
   "outputs": [
    {
     "name": "stdout",
     "output_type": "stream",
     "text": [
      "\n",
      "Structure\n",
      "<class 'pandas.core.frame.DataFrame'>\n",
      "RangeIndex: 153 entries, 0 to 152\n",
      "Data columns (total 9 columns):\n",
      " #   Column  Non-Null Count  Dtype  \n",
      "---  ------  --------------  -----  \n",
      " 0   Ozone   116 non-null    float64\n",
      " 1   Solar   146 non-null    float64\n",
      " 2   Wind    143 non-null    float64\n",
      " 3   Temp    143 non-null    float64\n",
      " 4   PM25    143 non-null    float64\n",
      " 5   PM10    143 non-null    float64\n",
      " 6   Index   143 non-null    float64\n",
      " 7   Month   153 non-null    int64  \n",
      " 8   Day     153 non-null    int64  \n",
      "dtypes: float64(7), int64(2)\n",
      "memory usage: 10.9 KB\n",
      "None\n"
     ]
    }
   ],
   "source": [
    "print('\\nStructure')\n",
    "print(df.info())"
   ]
  },
  {
   "cell_type": "markdown",
   "metadata": {},
   "source": [
    "view summary"
   ]
  },
  {
   "cell_type": "code",
   "execution_count": 47,
   "metadata": {},
   "outputs": [
    {
     "name": "stdout",
     "output_type": "stream",
     "text": [
      "\n",
      "Summary\n",
      "            Ozone       Solar        Wind        Temp        PM25        PM10  \\\n",
      "count  116.000000  146.000000  143.000000  143.000000  143.000000  143.000000   \n",
      "mean    42.129310  185.931507    9.904895   77.811189  100.699301  100.293706   \n",
      "std     32.987885   90.058422    3.544572    9.581343   54.409899   28.305634   \n",
      "min      1.000000    7.000000    1.700000   56.000000    1.000000   51.000000   \n",
      "25%     18.000000  115.750000    7.400000   72.000000   55.000000   77.500000   \n",
      "50%     31.500000  205.000000    9.700000   79.000000  102.000000  103.000000   \n",
      "75%     63.250000  258.750000   11.500000   85.000000  144.500000  123.000000   \n",
      "max    168.000000  334.000000   20.700000   97.000000  200.000000  148.000000   \n",
      "\n",
      "            Index       Month         Day  \n",
      "count  143.000000  153.000000  153.000000  \n",
      "mean     5.069930    6.993464   15.803922  \n",
      "std      2.731275    1.416522    8.864520  \n",
      "min      1.000000    5.000000    1.000000  \n",
      "25%      3.000000    6.000000    8.000000  \n",
      "50%      5.000000    7.000000   16.000000  \n",
      "75%      8.000000    8.000000   23.000000  \n",
      "max      9.000000    9.000000   31.000000  \n"
     ]
    }
   ],
   "source": [
    "print('\\nSummary')\n",
    "print(df.describe())"
   ]
  },
  {
   "cell_type": "markdown",
   "metadata": {},
   "source": [
    "view Data"
   ]
  },
  {
   "cell_type": "code",
   "execution_count": 48,
   "metadata": {},
   "outputs": [
    {
     "name": "stdout",
     "output_type": "stream",
     "text": [
      "\n",
      "Head\n",
      "   Ozone  Solar  Wind  Temp   PM25   PM10  Index  Month  Day\n",
      "0   41.0  190.0   7.4  67.0  159.0  125.0    2.0      5    1\n",
      "1   36.0  118.0   8.0  72.0   55.0   63.0    2.0      5    2\n",
      "2   12.0  149.0  12.6  74.0   36.0  116.0    9.0      5    3\n",
      "3   18.0  313.0  11.5  62.0  120.0  128.0    9.0      5    4\n",
      "4    NaN    NaN  14.3  56.0  134.0  119.0    1.0      5    5\n"
     ]
    }
   ],
   "source": [
    "print('\\nHead')\n",
    "print(df.head())"
   ]
  },
  {
   "cell_type": "markdown",
   "metadata": {},
   "source": [
    "check zeros"
   ]
  },
  {
   "cell_type": "code",
   "execution_count": 49,
   "metadata": {},
   "outputs": [
    {
     "name": "stdout",
     "output_type": "stream",
     "text": [
      "\n",
      "Columns With Zero\n",
      "Ozone    0\n",
      "Solar    0\n",
      "Wind     0\n",
      "Temp     0\n",
      "PM25     0\n",
      "PM10     0\n",
      "Index    0\n",
      "Month    0\n",
      "Day      0\n",
      "dtype: int64\n"
     ]
    }
   ],
   "source": [
    "print('\\nColumns With Zero')\n",
    "print((df==0).sum())"
   ]
  },
  {
   "cell_type": "markdown",
   "metadata": {},
   "source": [
    "check nulls"
   ]
  },
  {
   "cell_type": "code",
   "execution_count": 50,
   "metadata": {},
   "outputs": [
    {
     "name": "stdout",
     "output_type": "stream",
     "text": [
      "\n",
      "Columns With Nulls\n"
     ]
    },
    {
     "data": {
      "text/plain": [
       "Ozone    37\n",
       "Solar     7\n",
       "Wind     10\n",
       "Temp     10\n",
       "PM25     10\n",
       "PM10     10\n",
       "Index    10\n",
       "Month     0\n",
       "Day       0\n",
       "dtype: int64"
      ]
     },
     "execution_count": 50,
     "metadata": {},
     "output_type": "execute_result"
    }
   ],
   "source": [
    "print('\\nColumns With Nulls')\n",
    "df.isnull().sum() "
   ]
  },
  {
   "cell_type": "code",
   "execution_count": 51,
   "metadata": {},
   "outputs": [
    {
     "name": "stdout",
     "output_type": "stream",
     "text": [
      "\n",
      "************************************************************\n",
      "Population Mean\n",
      "************************************************************\n"
     ]
    }
   ],
   "source": [
    "\t\n",
    "# data imputation - column average for Solar\n",
    "print('\\n************************************************************')\n",
    "print('Population Mean')\n",
    "print('************************************************************')"
   ]
  },
  {
   "cell_type": "markdown",
   "metadata": {},
   "source": [
    "Option 1: Population Mean - Manual"
   ]
  },
  {
   "cell_type": "code",
   "execution_count": 52,
   "metadata": {},
   "outputs": [
    {
     "name": "stdout",
     "output_type": "stream",
     "text": [
      "\n",
      "*** Option 1: Population Mean - Manual ***\n"
     ]
    }
   ],
   "source": [
    "print('\\n*** Option 1: Population Mean - Manual ***')"
   ]
  },
  {
   "cell_type": "markdown",
   "metadata": {},
   "source": [
    "check"
   ]
  },
  {
   "cell_type": "code",
   "execution_count": 53,
   "metadata": {},
   "outputs": [
    {
     "name": "stdout",
     "output_type": "stream",
     "text": [
      "Pre-Clean\n",
      "7\n"
     ]
    }
   ],
   "source": [
    "print('Pre-Clean')\n",
    "print(df.Solar.isnull().sum())"
   ]
  },
  {
   "cell_type": "markdown",
   "metadata": {},
   "source": [
    "mean"
   ]
  },
  {
   "cell_type": "code",
   "execution_count": 54,
   "metadata": {},
   "outputs": [
    {
     "name": "stdout",
     "output_type": "stream",
     "text": [
      "Mean\n",
      "185\n"
     ]
    }
   ],
   "source": [
    "vMean = int(df['Solar'].mean())\n",
    "print('Mean')\n",
    "print(vMean)"
   ]
  },
  {
   "cell_type": "markdown",
   "metadata": {},
   "source": [
    "update"
   ]
  },
  {
   "cell_type": "code",
   "execution_count": 55,
   "metadata": {},
   "outputs": [],
   "source": [
    "df['Solar'] = np.where(df['Solar'].isnull(), vMean, df['Solar'])\n",
    "df['Solar'] = df['Solar'].astype(int)"
   ]
  },
  {
   "cell_type": "markdown",
   "metadata": {},
   "source": [
    "OR"
   ]
  },
  {
   "cell_type": "code",
   "execution_count": 56,
   "metadata": {},
   "outputs": [],
   "source": [
    "df['Solar'] = df['Solar'].replace(np.nan, vMean)\n",
    "df['Solar'] = df['Solar'].astype(int)"
   ]
  },
  {
   "cell_type": "markdown",
   "metadata": {},
   "source": [
    "recheck"
   ]
  },
  {
   "cell_type": "code",
   "execution_count": 57,
   "metadata": {},
   "outputs": [
    {
     "name": "stdout",
     "output_type": "stream",
     "text": [
      "PostClean\n",
      "0\n"
     ]
    }
   ],
   "source": [
    "print('PostClean')\n",
    "print(df.Solar.isnull().sum())"
   ]
  },
  {
   "cell_type": "markdown",
   "metadata": {},
   "source": [
    "mean"
   ]
  },
  {
   "cell_type": "code",
   "execution_count": 58,
   "metadata": {},
   "outputs": [
    {
     "name": "stdout",
     "output_type": "stream",
     "text": [
      "Mean\n",
      "185\n"
     ]
    }
   ],
   "source": [
    "vMean = int(df['Solar'].mean())\n",
    "print('Mean')\n",
    "print(vMean)"
   ]
  },
  {
   "cell_type": "markdown",
   "metadata": {},
   "source": [
    "Option 2:  Population Mean - FillNA-DF  "
   ]
  },
  {
   "cell_type": "code",
   "execution_count": 59,
   "metadata": {},
   "outputs": [
    {
     "name": "stdout",
     "output_type": "stream",
     "text": [
      "\n",
      "*** Option 2: Population Mean - FillNA-DF ***\n"
     ]
    }
   ],
   "source": [
    "print('\\n*** Option 2: Population Mean - FillNA-DF ***')"
   ]
  },
  {
   "cell_type": "markdown",
   "metadata": {},
   "source": [
    "reading data file"
   ]
  },
  {
   "cell_type": "code",
   "execution_count": 60,
   "metadata": {},
   "outputs": [],
   "source": [
    "df = pd.read_csv('./data/airquality.csv')"
   ]
  },
  {
   "cell_type": "markdown",
   "metadata": {},
   "source": [
    "check nulls"
   ]
  },
  {
   "cell_type": "code",
   "execution_count": 61,
   "metadata": {},
   "outputs": [
    {
     "name": "stdout",
     "output_type": "stream",
     "text": [
      "Pre-Clean\n",
      "Columns With Nulls\n",
      "Ozone    37\n",
      "Solar     7\n",
      "Wind     10\n",
      "Temp     10\n",
      "PM25     10\n",
      "PM10     10\n",
      "Index    10\n",
      "Month     0\n",
      "Day       0\n",
      "dtype: int64\n"
     ]
    }
   ],
   "source": [
    "print('Pre-Clean')\n",
    "print('Columns With Nulls')\n",
    "print(df.isnull().sum()) "
   ]
  },
  {
   "cell_type": "code",
   "execution_count": 62,
   "metadata": {},
   "outputs": [
    {
     "name": "stdout",
     "output_type": "stream",
     "text": [
      "Col Means\n",
      "Ozone     42\n",
      "Solar    185\n",
      "Wind       9\n",
      "Temp      77\n",
      "PM25     100\n",
      "PM10     100\n",
      "Index      5\n",
      "Month      6\n",
      "Day       15\n",
      "dtype: int32\n"
     ]
    }
   ],
   "source": [
    "print('Col Means')\n",
    "print(df.mean().astype(int))"
   ]
  },
  {
   "cell_type": "markdown",
   "metadata": {},
   "source": [
    "claen"
   ]
  },
  {
   "cell_type": "code",
   "execution_count": 63,
   "metadata": {},
   "outputs": [],
   "source": [
    "df = df.fillna(df.mean().astype(int))"
   ]
  },
  {
   "cell_type": "markdown",
   "metadata": {},
   "source": [
    "check nulls"
   ]
  },
  {
   "cell_type": "code",
   "execution_count": 64,
   "metadata": {},
   "outputs": [
    {
     "name": "stdout",
     "output_type": "stream",
     "text": [
      "Post-Clean\n",
      "Columns With Nulls\n"
     ]
    },
    {
     "data": {
      "text/plain": [
       "Ozone    0\n",
       "Solar    0\n",
       "Wind     0\n",
       "Temp     0\n",
       "PM25     0\n",
       "PM10     0\n",
       "Index    0\n",
       "Month    0\n",
       "Day      0\n",
       "dtype: int64"
      ]
     },
     "execution_count": 64,
     "metadata": {},
     "output_type": "execute_result"
    }
   ],
   "source": [
    "print('Post-Clean')\n",
    "print('Columns With Nulls')\n",
    "df.isnull().sum() "
   ]
  },
  {
   "cell_type": "code",
   "execution_count": 65,
   "metadata": {},
   "outputs": [
    {
     "name": "stdout",
     "output_type": "stream",
     "text": [
      "Col Means\n",
      "Ozone     42\n",
      "Solar    185\n",
      "Wind       9\n",
      "Temp      77\n",
      "PM25     100\n",
      "PM10     100\n",
      "Index      5\n",
      "Month      6\n",
      "Day       15\n",
      "dtype: int32\n"
     ]
    }
   ],
   "source": [
    "print('Col Means')\n",
    "print(df.mean().astype(int))"
   ]
  },
  {
   "cell_type": "markdown",
   "metadata": {},
   "source": [
    "Option 3: Population Mean - FillNA-Col  "
   ]
  },
  {
   "cell_type": "code",
   "execution_count": 66,
   "metadata": {},
   "outputs": [
    {
     "name": "stdout",
     "output_type": "stream",
     "text": [
      "\n",
      "*** Option 3: Population Mean - FillNA-Col ***\n"
     ]
    }
   ],
   "source": [
    "print('\\n*** Option 3: Population Mean - FillNA-Col ***')"
   ]
  },
  {
   "cell_type": "markdown",
   "metadata": {},
   "source": [
    "reading data file"
   ]
  },
  {
   "cell_type": "code",
   "execution_count": 67,
   "metadata": {},
   "outputs": [],
   "source": [
    "df = pd.read_csv('./data/airquality.csv')"
   ]
  },
  {
   "cell_type": "markdown",
   "metadata": {},
   "source": [
    "check nulls"
   ]
  },
  {
   "cell_type": "code",
   "execution_count": 68,
   "metadata": {},
   "outputs": [
    {
     "name": "stdout",
     "output_type": "stream",
     "text": [
      "Pre-Clean\n",
      "Columns With Nulls\n",
      "7\n",
      "Mean Solar\n",
      "185\n"
     ]
    }
   ],
   "source": [
    "print('Pre-Clean')\n",
    "print('Columns With Nulls')\n",
    "print(df['Solar'].isnull().sum())\n",
    "print('Mean Solar')\n",
    "vMean = int(df['Solar'].mean())\n",
    "print(vMean)"
   ]
  },
  {
   "cell_type": "markdown",
   "metadata": {},
   "source": [
    "claen"
   ]
  },
  {
   "cell_type": "code",
   "execution_count": 69,
   "metadata": {},
   "outputs": [],
   "source": [
    "df['Solar'] = df['Solar'].fillna(df['Solar'].mean())\n",
    "df['Solar'] = df['Solar'].astype(int)"
   ]
  },
  {
   "cell_type": "markdown",
   "metadata": {},
   "source": [
    "check nulls"
   ]
  },
  {
   "cell_type": "code",
   "execution_count": 70,
   "metadata": {},
   "outputs": [
    {
     "name": "stdout",
     "output_type": "stream",
     "text": [
      "Post-Clean\n",
      "Columns With Nulls\n",
      "0\n",
      "Mean Solar\n",
      "185\n"
     ]
    }
   ],
   "source": [
    "print('Post-Clean')\n",
    "print('Columns With Nulls')\n",
    "print(df['Solar'].isnull().sum())\n",
    "print('Mean Solar')\n",
    "vMean = int(df['Solar'].mean())\n",
    "print(vMean)"
   ]
  },
  {
   "cell_type": "markdown",
   "metadata": {},
   "source": [
    "Option 4: Population Mean - Imputer-Col"
   ]
  },
  {
   "cell_type": "code",
   "execution_count": 71,
   "metadata": {},
   "outputs": [
    {
     "name": "stdout",
     "output_type": "stream",
     "text": [
      "\n",
      "*** Option 4: Population Mean - Imputer-Col ***\n"
     ]
    }
   ],
   "source": [
    "print('\\n*** Option 4: Population Mean - Imputer-Col ***')"
   ]
  },
  {
   "cell_type": "markdown",
   "metadata": {},
   "source": [
    "reading data file"
   ]
  },
  {
   "cell_type": "code",
   "execution_count": 72,
   "metadata": {},
   "outputs": [],
   "source": [
    "df = pd.read_csv('./data/airquality.csv')"
   ]
  },
  {
   "cell_type": "markdown",
   "metadata": {},
   "source": [
    "check"
   ]
  },
  {
   "cell_type": "code",
   "execution_count": 73,
   "metadata": {},
   "outputs": [
    {
     "name": "stdout",
     "output_type": "stream",
     "text": [
      "Pre-Clean\n",
      "7\n",
      "Mean Solar\n",
      "185\n"
     ]
    }
   ],
   "source": [
    "print('Pre-Clean')\n",
    "print(df['Solar'].isnull().sum())\n",
    "print('Mean Solar')\n",
    "vMean = int(df['Solar'].mean())\n",
    "print(vMean)"
   ]
  },
  {
   "cell_type": "markdown",
   "metadata": {},
   "source": [
    "impute"
   ]
  },
  {
   "cell_type": "code",
   "execution_count": 74,
   "metadata": {},
   "outputs": [],
   "source": [
    "imp=SimpleImputer(missing_values=np.nan, strategy='mean')\n",
    "#print(imp)\n",
    "df['Solar']=imp.fit_transform(df[['Solar']])\n",
    "df['Solar']=df['Solar'].astype(int)"
   ]
  },
  {
   "cell_type": "markdown",
   "metadata": {},
   "source": [
    "recheck"
   ]
  },
  {
   "cell_type": "code",
   "execution_count": 75,
   "metadata": {},
   "outputs": [
    {
     "name": "stdout",
     "output_type": "stream",
     "text": [
      "PostClean\n",
      "0\n",
      "Mean Solar\n",
      "185\n"
     ]
    }
   ],
   "source": [
    "print('PostClean')\n",
    "print(df['Solar'].isnull().sum())\n",
    "print('Mean Solar')\n",
    "vMean = int(df['Solar'].mean())\n",
    "print(vMean)"
   ]
  },
  {
   "cell_type": "markdown",
   "metadata": {},
   "source": [
    "data imputation - group mean for Ozone"
   ]
  },
  {
   "cell_type": "code",
   "execution_count": 76,
   "metadata": {},
   "outputs": [
    {
     "name": "stdout",
     "output_type": "stream",
     "text": [
      "\n",
      "************************************************************\n",
      "Group Mean\n",
      "************************************************************\n"
     ]
    }
   ],
   "source": [
    "print('\\n************************************************************')\n",
    "print('Group Mean')\n",
    "print('************************************************************')"
   ]
  },
  {
   "cell_type": "markdown",
   "metadata": {},
   "source": [
    "Option 1: Group Mean - Manual"
   ]
  },
  {
   "cell_type": "code",
   "execution_count": 77,
   "metadata": {},
   "outputs": [
    {
     "name": "stdout",
     "output_type": "stream",
     "text": [
      "\n",
      "*** Option 1: Group Mean - Manual ***\n"
     ]
    }
   ],
   "source": [
    "print('\\n*** Option 1: Group Mean - Manual ***')"
   ]
  },
  {
   "cell_type": "markdown",
   "metadata": {},
   "source": [
    "reading data file"
   ]
  },
  {
   "cell_type": "code",
   "execution_count": 78,
   "metadata": {},
   "outputs": [],
   "source": [
    "df = pd.read_csv('./data/airquality.csv')"
   ]
  },
  {
   "cell_type": "markdown",
   "metadata": {},
   "source": [
    "check"
   ]
  },
  {
   "cell_type": "code",
   "execution_count": 79,
   "metadata": {},
   "outputs": [
    {
     "name": "stdout",
     "output_type": "stream",
     "text": [
      "Pre-Clean\n",
      "37\n",
      "Group Mean\n",
      "       Ozone\n",
      "Month       \n",
      "5         23\n",
      "6         29\n",
      "7         59\n",
      "8         59\n",
      "9         31\n",
      "<class 'pandas.core.frame.DataFrame'>\n"
     ]
    }
   ],
   "source": [
    "print('Pre-Clean')\n",
    "print(df.Ozone.isnull().sum())\n",
    "# creates data frame\n",
    "print('Group Mean')\n",
    "gdf = df.groupby(['Month'])[['Ozone']].mean().astype(int)\n",
    "print(gdf)\n",
    "print(type(gdf))"
   ]
  },
  {
   "cell_type": "markdown",
   "metadata": {},
   "source": [
    "iterate"
   ]
  },
  {
   "cell_type": "code",
   "execution_count": 80,
   "metadata": {},
   "outputs": [
    {
     "name": "stdout",
     "output_type": "stream",
     "text": [
      "0\n",
      "5\n",
      "23\n",
      "1\n",
      "6\n",
      "29\n",
      "2\n",
      "7\n",
      "59\n",
      "3\n",
      "8\n",
      "59\n",
      "4\n",
      "9\n",
      "31\n"
     ]
    }
   ],
   "source": [
    "for i in range(0,len(gdf)):\n",
    "    print(i)    \n",
    "    # get month\n",
    "    vMonth = gdf.index[i]\n",
    "    print(vMonth)\n",
    "    #get mean\n",
    "    vMeans = gdf['Ozone'][vMonth]\n",
    "    print(vMeans)\n",
    "    # update\n",
    "    df['Ozone'] = np.where(((df['Ozone'].isnull()) & (df['Month']==vMonth)), \n",
    "                                            vMeans, df['Ozone'])\n",
    "df['Ozone'] = df['Ozone'].astype(int)"
   ]
  },
  {
   "cell_type": "markdown",
   "metadata": {},
   "source": [
    "recheck"
   ]
  },
  {
   "cell_type": "code",
   "execution_count": 81,
   "metadata": {},
   "outputs": [
    {
     "name": "stdout",
     "output_type": "stream",
     "text": [
      "PostClean\n",
      "0\n",
      "\n",
      "Group Mean\n",
      "       Ozone\n",
      "Month       \n",
      "5         23\n",
      "6         29\n",
      "7         59\n",
      "8         59\n",
      "9         31\n",
      "       Ozone\n",
      "Month       \n",
      "5         23\n",
      "6         29\n",
      "7         59\n",
      "8         59\n",
      "9         31\n"
     ]
    }
   ],
   "source": [
    "print('PostClean')\n",
    "print(df.Ozone.isnull().sum())\n",
    "print('')\n",
    "# mean\n",
    "# creates data frame\n",
    "print('Group Mean')\n",
    "cdf = df.groupby(['Month'])[['Ozone']].mean().astype(int)\n",
    "print(gdf)\n",
    "print(cdf)"
   ]
  },
  {
   "cell_type": "markdown",
   "metadata": {},
   "source": [
    "Option 1: Group Mean - Lambda"
   ]
  },
  {
   "cell_type": "code",
   "execution_count": 82,
   "metadata": {},
   "outputs": [
    {
     "name": "stdout",
     "output_type": "stream",
     "text": [
      "\n",
      "*** Option 2: Group Mean - GroupBy Lambda ***\n"
     ]
    }
   ],
   "source": [
    "print('\\n*** Option 2: Group Mean - GroupBy Lambda ***')"
   ]
  },
  {
   "cell_type": "markdown",
   "metadata": {},
   "source": [
    "reading data file"
   ]
  },
  {
   "cell_type": "code",
   "execution_count": 83,
   "metadata": {},
   "outputs": [],
   "source": [
    "df = pd.read_csv('./data/airquality.csv')"
   ]
  },
  {
   "cell_type": "markdown",
   "metadata": {},
   "source": [
    "check"
   ]
  },
  {
   "cell_type": "code",
   "execution_count": 84,
   "metadata": {},
   "outputs": [
    {
     "name": "stdout",
     "output_type": "stream",
     "text": [
      "Pre-Clean\n",
      "37\n",
      "Group Mean\n",
      "       Ozone\n",
      "Month       \n",
      "5         23\n",
      "6         29\n",
      "7         59\n",
      "8         59\n",
      "9         31\n",
      "<class 'pandas.core.frame.DataFrame'>\n"
     ]
    }
   ],
   "source": [
    "print('Pre-Clean')\n",
    "print(df.Ozone.isnull().sum())\n",
    "# creates data frame\n",
    "print('Group Mean')\n",
    "gdf = df.groupby(['Month'])[['Ozone']].mean().astype(int)\n",
    "print(gdf)\n",
    "print(type(gdf))"
   ]
  },
  {
   "cell_type": "markdown",
   "metadata": {},
   "source": [
    "update"
   ]
  },
  {
   "cell_type": "code",
   "execution_count": 85,
   "metadata": {},
   "outputs": [],
   "source": [
    "df['Ozone'] = df.groupby('Month')['Ozone'].apply(lambda x:x.fillna(x.mean()))\n",
    "df['Ozone'] = df['Ozone'].astype(int)"
   ]
  },
  {
   "cell_type": "markdown",
   "metadata": {},
   "source": [
    "recheck"
   ]
  },
  {
   "cell_type": "code",
   "execution_count": 86,
   "metadata": {},
   "outputs": [
    {
     "name": "stdout",
     "output_type": "stream",
     "text": [
      "PostClean\n",
      "0\n",
      "Group Mean\n",
      "       Ozone\n",
      "Month       \n",
      "5         23\n",
      "6         29\n",
      "7         59\n",
      "8         59\n",
      "9         31\n",
      "       Ozone\n",
      "Month       \n",
      "5         23\n",
      "6         29\n",
      "7         59\n",
      "8         59\n",
      "9         31\n"
     ]
    }
   ],
   "source": [
    "print('PostClean')\n",
    "print(df.Ozone.isnull().sum())\n",
    "# mean\n",
    "# creates data frame\n",
    "print('Group Mean')\n",
    "cdf = df.groupby(['Month'])[['Ozone']].mean().astype(int)\n",
    "print(gdf)\n",
    "print(cdf)"
   ]
  },
  {
   "cell_type": "markdown",
   "metadata": {},
   "source": [
    "data imputation - average for immediate up / down points - Temp"
   ]
  },
  {
   "cell_type": "code",
   "execution_count": 87,
   "metadata": {},
   "outputs": [
    {
     "name": "stdout",
     "output_type": "stream",
     "text": [
      "************************************************************\n",
      "Interpolated Mean\n",
      "************************************************************\n"
     ]
    }
   ],
   "source": [
    "print('************************************************************')\n",
    "print('Interpolated Mean')\n",
    "print('************************************************************')"
   ]
  },
  {
   "cell_type": "markdown",
   "metadata": {},
   "source": [
    "Option 1: Interpolated Mean - Manual"
   ]
  },
  {
   "cell_type": "code",
   "execution_count": 88,
   "metadata": {},
   "outputs": [
    {
     "name": "stdout",
     "output_type": "stream",
     "text": [
      "\n",
      "*** Option 1: Interpolated Mean - Manual ***\n"
     ]
    }
   ],
   "source": [
    "print('\\n*** Option 1: Interpolated Mean - Manual ***')"
   ]
  },
  {
   "cell_type": "markdown",
   "metadata": {},
   "source": [
    "reading data file"
   ]
  },
  {
   "cell_type": "code",
   "execution_count": 89,
   "metadata": {},
   "outputs": [],
   "source": [
    "df = pd.read_csv('./data/airquality.csv')"
   ]
  },
  {
   "cell_type": "markdown",
   "metadata": {},
   "source": [
    "check"
   ]
  },
  {
   "cell_type": "code",
   "execution_count": 90,
   "metadata": {},
   "outputs": [
    {
     "name": "stdout",
     "output_type": "stream",
     "text": [
      "Pre-Clean\n",
      "10\n"
     ]
    }
   ],
   "source": [
    "print('Pre-Clean')\n",
    "print(df.Temp.isnull().sum())"
   ]
  },
  {
   "cell_type": "markdown",
   "metadata": {},
   "source": [
    "handling temp"
   ]
  },
  {
   "cell_type": "code",
   "execution_count": 91,
   "metadata": {},
   "outputs": [],
   "source": [
    "i = 0\n",
    "for i in df.index:\n",
    "    # check if row,temp = null\n",
    "    if (pd.isnull(df.iloc[i,3])):\n",
    "        # get previous row value of temp\n",
    "        vLower = None\n",
    "        if i > 0:\n",
    "           vLower = df.iloc[i-1,3] \n",
    "        # get next row value of temp\n",
    "        vUpper = None\n",
    "        if i < len(df):\n",
    "           vUpper = df.iloc[i+1,3] \n",
    "        vList = [vLower, vUpper]\n",
    "        vMean = np.mean(vList).astype(int)\n",
    "        df.iloc[i,3] = vMean\n",
    "df['Temp'] = df['Temp'].astype(int)"
   ]
  },
  {
   "cell_type": "markdown",
   "metadata": {},
   "source": [
    "recheck"
   ]
  },
  {
   "cell_type": "code",
   "execution_count": 92,
   "metadata": {},
   "outputs": [
    {
     "name": "stdout",
     "output_type": "stream",
     "text": [
      "PostClean\n",
      "0\n",
      "\n"
     ]
    }
   ],
   "source": [
    "print('PostClean')\n",
    "print(df.Temp.isnull().sum())\n",
    "print('')"
   ]
  },
  {
   "cell_type": "markdown",
   "metadata": {},
   "source": [
    "Option 2: Interpolated  Mean - Interpolate-Col"
   ]
  },
  {
   "cell_type": "code",
   "execution_count": 93,
   "metadata": {},
   "outputs": [
    {
     "name": "stdout",
     "output_type": "stream",
     "text": [
      "\n",
      "*** Option 2: Interpolated  Mean - Interpolate-Col  ***\n"
     ]
    }
   ],
   "source": [
    "print('\\n*** Option 2: Interpolated  Mean - Interpolate-Col  ***')"
   ]
  },
  {
   "cell_type": "markdown",
   "metadata": {},
   "source": [
    "reading data file"
   ]
  },
  {
   "cell_type": "code",
   "execution_count": 94,
   "metadata": {},
   "outputs": [],
   "source": [
    "df = pd.read_csv('./data/airquality.csv')"
   ]
  },
  {
   "cell_type": "markdown",
   "metadata": {},
   "source": [
    "check"
   ]
  },
  {
   "cell_type": "code",
   "execution_count": 95,
   "metadata": {},
   "outputs": [
    {
     "name": "stdout",
     "output_type": "stream",
     "text": [
      "Pre-Clean\n",
      "10\n"
     ]
    }
   ],
   "source": [
    "print('Pre-Clean')\n",
    "print(df.Temp.isnull().sum())"
   ]
  },
  {
   "cell_type": "markdown",
   "metadata": {},
   "source": [
    "update"
   ]
  },
  {
   "cell_type": "code",
   "execution_count": 96,
   "metadata": {},
   "outputs": [],
   "source": [
    "df['Temp'] = df['Temp'].interpolate(method ='linear', limit_direction ='forward') \n",
    "df['Temp'] = df['Temp'].astype(int)"
   ]
  },
  {
   "cell_type": "markdown",
   "metadata": {},
   "source": [
    "recheck"
   ]
  },
  {
   "cell_type": "code",
   "execution_count": 97,
   "metadata": {},
   "outputs": [
    {
     "name": "stdout",
     "output_type": "stream",
     "text": [
      "PostClean\n",
      "0\n",
      "\n"
     ]
    }
   ],
   "source": [
    "print('PostClean')\n",
    "print(df.Temp.isnull().sum())\n",
    "print('')"
   ]
  },
  {
   "cell_type": "markdown",
   "metadata": {},
   "source": [
    "Option 3: Interpolated  Mean - Interpolate-DF"
   ]
  },
  {
   "cell_type": "code",
   "execution_count": 98,
   "metadata": {},
   "outputs": [
    {
     "name": "stdout",
     "output_type": "stream",
     "text": [
      "\n",
      "*** Option 3: Interpolated  Mean - Interpolate-DF  ***\n"
     ]
    }
   ],
   "source": [
    "print('\\n*** Option 3: Interpolated  Mean - Interpolate-DF  ***')"
   ]
  },
  {
   "cell_type": "markdown",
   "metadata": {},
   "source": [
    "reading data file"
   ]
  },
  {
   "cell_type": "code",
   "execution_count": 99,
   "metadata": {},
   "outputs": [],
   "source": [
    "df = pd.read_csv('./data/airquality.csv')"
   ]
  },
  {
   "cell_type": "markdown",
   "metadata": {},
   "source": [
    "check"
   ]
  },
  {
   "cell_type": "code",
   "execution_count": 100,
   "metadata": {},
   "outputs": [
    {
     "name": "stdout",
     "output_type": "stream",
     "text": [
      "Pre-Clean\n",
      "Ozone    37\n",
      "Solar     7\n",
      "Wind     10\n",
      "Temp     10\n",
      "PM25     10\n",
      "PM10     10\n",
      "Index    10\n",
      "Month     0\n",
      "Day       0\n",
      "dtype: int64\n"
     ]
    }
   ],
   "source": [
    "print('Pre-Clean')\n",
    "print(df.isnull().sum())"
   ]
  },
  {
   "cell_type": "markdown",
   "metadata": {},
   "source": [
    "update"
   ]
  },
  {
   "cell_type": "code",
   "execution_count": 101,
   "metadata": {},
   "outputs": [],
   "source": [
    "df = df.interpolate(method ='linear', limit_direction ='forward') \n",
    "df = df.astype(int)"
   ]
  },
  {
   "cell_type": "markdown",
   "metadata": {},
   "source": [
    "recheck"
   ]
  },
  {
   "cell_type": "code",
   "execution_count": 102,
   "metadata": {},
   "outputs": [
    {
     "name": "stdout",
     "output_type": "stream",
     "text": [
      "PostClean\n",
      "Ozone    0\n",
      "Solar    0\n",
      "Wind     0\n",
      "Temp     0\n",
      "PM25     0\n",
      "PM10     0\n",
      "Index    0\n",
      "Month    0\n",
      "Day      0\n",
      "dtype: int64\n",
      "\n"
     ]
    }
   ],
   "source": [
    "print('PostClean')\n",
    "print(df.isnull().sum())\n",
    "print('')"
   ]
  },
  {
   "cell_type": "markdown",
   "metadata": {},
   "source": [
    "data imputation - populate NAs with dummy values -1"
   ]
  },
  {
   "cell_type": "code",
   "execution_count": 103,
   "metadata": {},
   "outputs": [
    {
     "name": "stdout",
     "output_type": "stream",
     "text": [
      "************************************************************\n",
      "Populate NAs With Dummy Values\n",
      "************************************************************\n"
     ]
    }
   ],
   "source": [
    "print('************************************************************')\n",
    "print('Populate NAs With Dummy Values')\n",
    "print('************************************************************')"
   ]
  },
  {
   "cell_type": "markdown",
   "metadata": {},
   "source": [
    "Option 1: Populate All NAs In df With Dummy Value <-1> "
   ]
  },
  {
   "cell_type": "code",
   "execution_count": 104,
   "metadata": {},
   "outputs": [
    {
     "name": "stdout",
     "output_type": "stream",
     "text": [
      "\n",
      "*** Option 1:  Populate All NAs In df With Dummy Value <-1> ***\n"
     ]
    }
   ],
   "source": [
    "print('\\n*** Option 1:  Populate All NAs In df With Dummy Value <-1> ***')"
   ]
  },
  {
   "cell_type": "markdown",
   "metadata": {},
   "source": [
    "reading data file"
   ]
  },
  {
   "cell_type": "code",
   "execution_count": 105,
   "metadata": {},
   "outputs": [],
   "source": [
    "df = pd.read_csv('./data/airquality.csv')"
   ]
  },
  {
   "cell_type": "markdown",
   "metadata": {},
   "source": [
    "check NAs"
   ]
  },
  {
   "cell_type": "code",
   "execution_count": 106,
   "metadata": {},
   "outputs": [
    {
     "name": "stdout",
     "output_type": "stream",
     "text": [
      "\n",
      "*** Columns With Nulls\n",
      "Ozone    37\n",
      "Solar     7\n",
      "Wind     10\n",
      "Temp     10\n",
      "PM25     10\n",
      "PM10     10\n",
      "Index    10\n",
      "Month     0\n",
      "Day       0\n",
      "dtype: int64\n"
     ]
    }
   ],
   "source": [
    "print(\"\\n*** Columns With Nulls\")\n",
    "print(df.isnull().sum()) "
   ]
  },
  {
   "cell_type": "markdown",
   "metadata": {},
   "source": [
    "fill NaN with -1"
   ]
  },
  {
   "cell_type": "code",
   "execution_count": 107,
   "metadata": {},
   "outputs": [],
   "source": [
    "df = df.fillna(-1)"
   ]
  },
  {
   "cell_type": "markdown",
   "metadata": {},
   "source": [
    "check NAs"
   ]
  },
  {
   "cell_type": "code",
   "execution_count": 108,
   "metadata": {},
   "outputs": [
    {
     "name": "stdout",
     "output_type": "stream",
     "text": [
      "\n",
      "*** Columns With Nulls\n",
      "Ozone    0\n",
      "Solar    0\n",
      "Wind     0\n",
      "Temp     0\n",
      "PM25     0\n",
      "PM10     0\n",
      "Index    0\n",
      "Month    0\n",
      "Day      0\n",
      "dtype: int64\n"
     ]
    }
   ],
   "source": [
    "print(\"\\n*** Columns With Nulls\")\n",
    "print(df.isnull().sum()) "
   ]
  },
  {
   "cell_type": "markdown",
   "metadata": {},
   "source": [
    "Option 2: Populate All NAs In Specific Column With Dummy Value <-1>"
   ]
  },
  {
   "cell_type": "code",
   "execution_count": 109,
   "metadata": {},
   "outputs": [
    {
     "name": "stdout",
     "output_type": "stream",
     "text": [
      "\n",
      "*** Option 2: Populate All NAs In Specific Column With Dummy Value <-1> ***\n"
     ]
    }
   ],
   "source": [
    "print('\\n*** Option 2: Populate All NAs In Specific Column With Dummy Value <-1> ***')"
   ]
  },
  {
   "cell_type": "markdown",
   "metadata": {},
   "source": [
    "reading data file"
   ]
  },
  {
   "cell_type": "code",
   "execution_count": 110,
   "metadata": {},
   "outputs": [],
   "source": [
    "df = pd.read_csv('./data/airquality.csv')"
   ]
  },
  {
   "cell_type": "markdown",
   "metadata": {},
   "source": [
    "check NAs"
   ]
  },
  {
   "cell_type": "code",
   "execution_count": 111,
   "metadata": {},
   "outputs": [
    {
     "name": "stdout",
     "output_type": "stream",
     "text": [
      "\n",
      "*** Columns With Nulls\n",
      "Ozone    37\n",
      "Solar     7\n",
      "Wind     10\n",
      "Temp     10\n",
      "PM25     10\n",
      "PM10     10\n",
      "Index    10\n",
      "Month     0\n",
      "Day       0\n",
      "dtype: int64\n"
     ]
    }
   ],
   "source": [
    "print(\"\\n*** Columns With Nulls\")\n",
    "print(df.isnull().sum()) "
   ]
  },
  {
   "cell_type": "markdown",
   "metadata": {},
   "source": [
    "drop NaN"
   ]
  },
  {
   "cell_type": "code",
   "execution_count": 112,
   "metadata": {},
   "outputs": [],
   "source": [
    "df['Ozone'] = df['Ozone'].fillna(-1)"
   ]
  },
  {
   "cell_type": "markdown",
   "metadata": {},
   "source": [
    "check NAs"
   ]
  },
  {
   "cell_type": "code",
   "execution_count": 113,
   "metadata": {},
   "outputs": [
    {
     "name": "stdout",
     "output_type": "stream",
     "text": [
      "\n",
      "*** Columns With Nulls\n",
      "Ozone     0\n",
      "Solar     7\n",
      "Wind     10\n",
      "Temp     10\n",
      "PM25     10\n",
      "PM10     10\n",
      "Index    10\n",
      "Month     0\n",
      "Day       0\n",
      "dtype: int64\n"
     ]
    }
   ],
   "source": [
    "print(\"\\n*** Columns With Nulls\")\n",
    "print(df.isnull().sum()) "
   ]
  },
  {
   "cell_type": "markdown",
   "metadata": {},
   "source": [
    "data imputation - drop rows"
   ]
  },
  {
   "cell_type": "code",
   "execution_count": 114,
   "metadata": {},
   "outputs": [
    {
     "name": "stdout",
     "output_type": "stream",
     "text": [
      "************************************************************\n",
      "Drop Rows With NaNs\n",
      "************************************************************\n"
     ]
    }
   ],
   "source": [
    "print('************************************************************')\n",
    "print('Drop Rows With NaNs')\n",
    "print('************************************************************')"
   ]
  },
  {
   "cell_type": "markdown",
   "metadata": {},
   "source": [
    "Option 1: Drop Rows Any Cols with NaNs"
   ]
  },
  {
   "cell_type": "code",
   "execution_count": 115,
   "metadata": {},
   "outputs": [
    {
     "name": "stdout",
     "output_type": "stream",
     "text": [
      "\n",
      "*** Option 1: Drop Rows Any Cols with NaNs  ***\n"
     ]
    }
   ],
   "source": [
    "print('\\n*** Option 1: Drop Rows Any Cols with NaNs  ***')"
   ]
  },
  {
   "cell_type": "markdown",
   "metadata": {},
   "source": [
    "reading data file"
   ]
  },
  {
   "cell_type": "code",
   "execution_count": 116,
   "metadata": {},
   "outputs": [],
   "source": [
    "df = pd.read_csv('./data/airquality.csv')"
   ]
  },
  {
   "cell_type": "markdown",
   "metadata": {},
   "source": [
    "check NAs"
   ]
  },
  {
   "cell_type": "code",
   "execution_count": 117,
   "metadata": {},
   "outputs": [
    {
     "name": "stdout",
     "output_type": "stream",
     "text": [
      "\n",
      "*** Row Count ***\n",
      "153\n",
      "\n",
      "*** Columns With Nulls ***\n",
      "Ozone    37\n",
      "Solar     7\n",
      "Wind     10\n",
      "Temp     10\n",
      "PM25     10\n",
      "PM10     10\n",
      "Index    10\n",
      "Month     0\n",
      "Day       0\n",
      "dtype: int64\n"
     ]
    }
   ],
   "source": [
    "print(\"\\n*** Row Count ***\")\n",
    "print(len(df.index)) \n",
    "print(\"\\n*** Columns With Nulls ***\")\n",
    "print(df.isnull().sum()) "
   ]
  },
  {
   "cell_type": "markdown",
   "metadata": {},
   "source": [
    "drop NaN"
   ]
  },
  {
   "cell_type": "code",
   "execution_count": 118,
   "metadata": {},
   "outputs": [],
   "source": [
    "df = df.dropna()"
   ]
  },
  {
   "cell_type": "markdown",
   "metadata": {},
   "source": [
    "check NAs"
   ]
  },
  {
   "cell_type": "code",
   "execution_count": 119,
   "metadata": {},
   "outputs": [
    {
     "name": "stdout",
     "output_type": "stream",
     "text": [
      "\n",
      "*** Row Count ***\n",
      "95\n",
      "\n",
      "*** Columns With Nulls ***\n",
      "Ozone    0\n",
      "Solar    0\n",
      "Wind     0\n",
      "Temp     0\n",
      "PM25     0\n",
      "PM10     0\n",
      "Index    0\n",
      "Month    0\n",
      "Day      0\n",
      "dtype: int64\n"
     ]
    }
   ],
   "source": [
    "print(\"\\n*** Row Count ***\")\n",
    "print(len(df.index)) \n",
    "print(\"\\n*** Columns With Nulls ***\")\n",
    "print(df.isnull().sum()) "
   ]
  },
  {
   "cell_type": "markdown",
   "metadata": {},
   "source": [
    "Option 1: Drop Rows With Specific Cols with NaNs"
   ]
  },
  {
   "cell_type": "code",
   "execution_count": 120,
   "metadata": {},
   "outputs": [
    {
     "name": "stdout",
     "output_type": "stream",
     "text": [
      "\n",
      "*** Option 2: Drop Rows With Specific Cols with NaNs  ***\n"
     ]
    }
   ],
   "source": [
    "print('\\n*** Option 2: Drop Rows With Specific Cols with NaNs  ***')"
   ]
  },
  {
   "cell_type": "markdown",
   "metadata": {},
   "source": [
    "reading data file"
   ]
  },
  {
   "cell_type": "code",
   "execution_count": 121,
   "metadata": {},
   "outputs": [],
   "source": [
    "df = pd.read_csv('./data/airquality.csv')"
   ]
  },
  {
   "cell_type": "markdown",
   "metadata": {},
   "source": [
    "check NAs"
   ]
  },
  {
   "cell_type": "code",
   "execution_count": 122,
   "metadata": {},
   "outputs": [
    {
     "name": "stdout",
     "output_type": "stream",
     "text": [
      "\n",
      "*** Row Count ***\n",
      "153\n",
      "\n",
      "*** Columns With Nulls ***\n",
      "Ozone    37\n",
      "Solar     7\n",
      "Wind     10\n",
      "Temp     10\n",
      "PM25     10\n",
      "PM10     10\n",
      "Index    10\n",
      "Month     0\n",
      "Day       0\n",
      "dtype: int64\n"
     ]
    }
   ],
   "source": [
    "print(\"\\n*** Row Count ***\")\n",
    "print(len(df.index)) \n",
    "print(\"\\n*** Columns With Nulls ***\")\n",
    "print(df.isnull().sum()) "
   ]
  },
  {
   "cell_type": "markdown",
   "metadata": {},
   "source": [
    "drop NaN"
   ]
  },
  {
   "cell_type": "code",
   "execution_count": 123,
   "metadata": {},
   "outputs": [],
   "source": [
    "df = df.dropna(subset=['Ozone'])"
   ]
  },
  {
   "cell_type": "markdown",
   "metadata": {},
   "source": [
    "check NAs"
   ]
  },
  {
   "cell_type": "code",
   "execution_count": 124,
   "metadata": {},
   "outputs": [
    {
     "name": "stdout",
     "output_type": "stream",
     "text": [
      "\n",
      "*** Row Count ***\n",
      "116\n",
      "\n",
      "*** Columns With Nulls ***\n",
      "Ozone    0\n",
      "Solar    5\n",
      "Wind     7\n",
      "Temp     6\n",
      "PM25     9\n",
      "PM10     9\n",
      "Index    9\n",
      "Month    0\n",
      "Day      0\n",
      "dtype: int64\n"
     ]
    }
   ],
   "source": [
    "print(\"\\n*** Row Count ***\")\n",
    "print(len(df.index)) \n",
    "print(\"\\n*** Columns With Nulls ***\")\n",
    "print(df.isnull().sum()) "
   ]
  },
  {
   "cell_type": "code",
   "execution_count": null,
   "metadata": {},
   "outputs": [],
   "source": []
  },
  {
   "cell_type": "code",
   "execution_count": null,
   "metadata": {},
   "outputs": [],
   "source": []
  }
 ],
 "metadata": {
  "kernelspec": {
   "display_name": "Python 3",
   "language": "python",
   "name": "python3"
  },
  "language_info": {
   "codemirror_mode": {
    "name": "ipython",
    "version": 3
   },
   "file_extension": ".py",
   "mimetype": "text/x-python",
   "name": "python",
   "nbconvert_exporter": "python",
   "pygments_lexer": "ipython3",
   "version": "3.8.5"
  }
 },
 "nbformat": 4,
 "nbformat_minor": 2
}
