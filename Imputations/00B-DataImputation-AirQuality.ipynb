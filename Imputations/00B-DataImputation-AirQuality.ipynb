{
 "cells": [
  {
   "attachments": {},
   "cell_type": "markdown",
   "metadata": {},
   "source": [
    "# Imputation or handling missing data\n"
   ]
  },
  {
   "cell_type": "code",
   "execution_count": 174,
   "metadata": {},
   "outputs": [],
   "source": [
    "# import\n",
    "import pandas as pd\n",
    "import numpy as np\n",
    "#from sklearn.preprocessing import Imputer\n",
    "from sklearn.impute import SimpleImputer"
   ]
  },
  {
   "cell_type": "markdown",
   "metadata": {},
   "source": [
    "reading data file"
   ]
  },
  {
   "cell_type": "code",
   "execution_count": 175,
   "metadata": {},
   "outputs": [],
   "source": [
    "df = pd.read_csv('./data/airquality.csv')\n"
   ]
  },
  {
   "cell_type": "markdown",
   "metadata": {},
   "source": [
    "view Col Info"
   ]
  },
  {
   "cell_type": "code",
   "execution_count": 176,
   "metadata": {},
   "outputs": [
    {
     "name": "stdout",
     "output_type": "stream",
     "text": [
      "\n",
      "Structure\n",
      "<class 'pandas.core.frame.DataFrame'>\n",
      "RangeIndex: 153 entries, 0 to 152\n",
      "Data columns (total 9 columns):\n",
      " #   Column  Non-Null Count  Dtype  \n",
      "---  ------  --------------  -----  \n",
      " 0   Ozone   116 non-null    float64\n",
      " 1   Solar   146 non-null    float64\n",
      " 2   Wind    143 non-null    float64\n",
      " 3   Temp    143 non-null    float64\n",
      " 4   PM25    143 non-null    float64\n",
      " 5   PM10    143 non-null    float64\n",
      " 6   Index   143 non-null    float64\n",
      " 7   Month   153 non-null    int64  \n",
      " 8   Day     153 non-null    int64  \n",
      "dtypes: float64(7), int64(2)\n",
      "memory usage: 10.9 KB\n",
      "None\n"
     ]
    }
   ],
   "source": [
    "print('\\nStructure')\n",
    "print(df.info())"
   ]
  },
  {
   "cell_type": "markdown",
   "metadata": {},
   "source": [
    "view summary"
   ]
  },
  {
   "cell_type": "code",
   "execution_count": 177,
   "metadata": {},
   "outputs": [
    {
     "name": "stdout",
     "output_type": "stream",
     "text": [
      "\n",
      "Summary\n",
      "            Ozone       Solar        Wind        Temp        PM25        PM10  \\\n",
      "count  116.000000  146.000000  143.000000  143.000000  143.000000  143.000000   \n",
      "mean    42.129310  185.931507    9.904895   77.811189  100.699301  100.293706   \n",
      "std     32.987885   90.058422    3.544572    9.581343   54.409899   28.305634   \n",
      "min      1.000000    7.000000    1.700000   56.000000    1.000000   51.000000   \n",
      "25%     18.000000  115.750000    7.400000   72.000000   55.000000   77.500000   \n",
      "50%     31.500000  205.000000    9.700000   79.000000  102.000000  103.000000   \n",
      "75%     63.250000  258.750000   11.500000   85.000000  144.500000  123.000000   \n",
      "max    168.000000  334.000000   20.700000   97.000000  200.000000  148.000000   \n",
      "\n",
      "            Index       Month         Day  \n",
      "count  143.000000  153.000000  153.000000  \n",
      "mean     5.069930    6.993464   15.803922  \n",
      "std      2.731275    1.416522    8.864520  \n",
      "min      1.000000    5.000000    1.000000  \n",
      "25%      3.000000    6.000000    8.000000  \n",
      "50%      5.000000    7.000000   16.000000  \n",
      "75%      8.000000    8.000000   23.000000  \n",
      "max      9.000000    9.000000   31.000000  \n"
     ]
    }
   ],
   "source": [
    "print('\\nSummary')\n",
    "print(df.describe())"
   ]
  },
  {
   "cell_type": "markdown",
   "metadata": {},
   "source": [
    "view Data"
   ]
  },
  {
   "cell_type": "code",
   "execution_count": 178,
   "metadata": {},
   "outputs": [
    {
     "name": "stdout",
     "output_type": "stream",
     "text": [
      "\n",
      "Head\n",
      "   Ozone  Solar  Wind  Temp   PM25   PM10  Index  Month  Day\n",
      "0   41.0  190.0   7.4  67.0  159.0  125.0    2.0      5    1\n",
      "1   36.0  118.0   8.0  72.0   55.0   63.0    2.0      5    2\n",
      "2   12.0  149.0  12.6  74.0   36.0  116.0    9.0      5    3\n",
      "3   18.0  313.0  11.5  62.0  120.0  128.0    9.0      5    4\n",
      "4    NaN    NaN  14.3  56.0  134.0  119.0    1.0      5    5\n"
     ]
    }
   ],
   "source": [
    "print('\\nHead')\n",
    "print(df.head())"
   ]
  },
  {
   "cell_type": "markdown",
   "metadata": {},
   "source": [
    "check zeros"
   ]
  },
  {
   "cell_type": "code",
   "execution_count": 179,
   "metadata": {},
   "outputs": [
    {
     "name": "stdout",
     "output_type": "stream",
     "text": [
      "\n",
      "Columns With Zero\n",
      "Ozone    0\n",
      "Solar    0\n",
      "Wind     0\n",
      "Temp     0\n",
      "PM25     0\n",
      "PM10     0\n",
      "Index    0\n",
      "Month    0\n",
      "Day      0\n",
      "dtype: int64\n"
     ]
    }
   ],
   "source": [
    "print('\\nColumns With Zero')\n",
    "print((df==0).sum())"
   ]
  },
  {
   "cell_type": "markdown",
   "metadata": {},
   "source": [
    "check nulls"
   ]
  },
  {
   "cell_type": "code",
   "execution_count": 180,
   "metadata": {},
   "outputs": [
    {
     "name": "stdout",
     "output_type": "stream",
     "text": [
      "\n",
      "Columns With Nulls\n"
     ]
    },
    {
     "data": {
      "text/plain": [
       "Ozone    37\n",
       "Solar     7\n",
       "Wind     10\n",
       "Temp     10\n",
       "PM25     10\n",
       "PM10     10\n",
       "Index    10\n",
       "Month     0\n",
       "Day       0\n",
       "dtype: int64"
      ]
     },
     "execution_count": 180,
     "metadata": {},
     "output_type": "execute_result"
    }
   ],
   "source": [
    "print('\\nColumns With Nulls')\n",
    "df.isnull().sum() "
   ]
  },
  {
   "cell_type": "markdown",
   "metadata": {},
   "source": [
    "# Case 1: Imputation techniques for numeric data\n",
    "\n",
    "\n",
    "* For numeric data we can use mean or median:\n",
    "\n",
    "1. Arithmatic Mean\n",
    "2. Group Mean: for numeric data which belongs to different groups, so we find the mean of each group and replace its missing values with respective group mean. For eg: If there is a column named hight and contains values for the hight of males and female, to handle missing values, first we need to group them i.e male and female, and then find the mean for each group and replace respectively. [we will see an example in Ozone and month]\n",
    "\n",
    "3. Interpolation mean: mean of lower value and upper value of a missing value.\n",
    "\n"
   ]
  },
  {
   "cell_type": "markdown",
   "metadata": {},
   "source": [
    "Option 1: Population Mean - Manual"
   ]
  },
  {
   "cell_type": "code",
   "execution_count": 181,
   "metadata": {},
   "outputs": [
    {
     "name": "stdout",
     "output_type": "stream",
     "text": [
      "\n",
      "*** Option 1: Population Mean - Manual ***\n",
      "Pre-Clean\n",
      "Nulls 7\n",
      "Mean 185\n",
      "PostClean\n",
      "Nulls 0\n",
      "Mean 185\n"
     ]
    }
   ],
   "source": [
    "print('\\n*** Option 1: Population Mean - Manual ***')\n",
    "\n",
    "\n",
    "print('Pre-Clean')\n",
    "print('Nulls',df.Solar.isnull().sum())\n",
    "vMean = int(df['Solar'].mean())\n",
    "print('Mean',vMean)\n",
    "\n",
    "\n",
    "#handling\n",
    "df['Solar'] = np.where(df['Solar'].isnull(), vMean, df['Solar'])\n",
    "#or\n",
    "#df['Solar'] = df['Solar'].replace(np.nan, vMean)\n",
    "df['Solar'] = df['Solar'].astype(int)\n",
    "\n",
    "\n",
    "print('PostClean')\n",
    "print('Nulls',df.Solar.isnull().sum())\n",
    "vMean = int(df['Solar'].mean())\n",
    "print('Mean',vMean)"
   ]
  },
  {
   "cell_type": "markdown",
   "metadata": {},
   "source": [
    "Option 2:  Population Mean - FillNA-DF  "
   ]
  },
  {
   "cell_type": "code",
   "execution_count": 182,
   "metadata": {},
   "outputs": [
    {
     "name": "stdout",
     "output_type": "stream",
     "text": [
      "\n",
      "*** Option 2: Population Mean - FillNA-DF ***\n"
     ]
    }
   ],
   "source": [
    "print('\\n*** Option 2: Population Mean - FillNA-DF ***')"
   ]
  },
  {
   "cell_type": "markdown",
   "metadata": {},
   "source": [
    "reading data file"
   ]
  },
  {
   "cell_type": "code",
   "execution_count": 183,
   "metadata": {},
   "outputs": [],
   "source": [
    "df = pd.read_csv('./data/airquality.csv')"
   ]
  },
  {
   "cell_type": "markdown",
   "metadata": {},
   "source": []
  },
  {
   "cell_type": "code",
   "execution_count": 184,
   "metadata": {},
   "outputs": [
    {
     "name": "stdout",
     "output_type": "stream",
     "text": [
      "Pre-Clean\n",
      "Columns With Nulls\n",
      "Ozone    37\n",
      "Solar     7\n",
      "Wind     10\n",
      "Temp     10\n",
      "PM25     10\n",
      "PM10     10\n",
      "Index    10\n",
      "Month     0\n",
      "Day       0\n",
      "dtype: int64\n"
     ]
    }
   ],
   "source": [
    "#check nulls\n",
    "print('Pre-Clean')\n",
    "print('Columns With Nulls')\n",
    "print(df.isnull().sum()) "
   ]
  },
  {
   "cell_type": "code",
   "execution_count": 185,
   "metadata": {},
   "outputs": [
    {
     "name": "stdout",
     "output_type": "stream",
     "text": [
      "Col Means\n",
      "Ozone     42\n",
      "Solar    185\n",
      "Wind       9\n",
      "Temp      77\n",
      "PM25     100\n",
      "PM10     100\n",
      "Index      5\n",
      "Month      6\n",
      "Day       15\n",
      "dtype: int32\n"
     ]
    }
   ],
   "source": [
    "#check mean\n",
    "print('Col Means')\n",
    "print(df.mean().astype(int))"
   ]
  },
  {
   "cell_type": "markdown",
   "metadata": {},
   "source": []
  },
  {
   "cell_type": "code",
   "execution_count": 186,
   "metadata": {},
   "outputs": [],
   "source": [
    "#clean\n",
    "df = df.fillna(df.mean().astype(int))"
   ]
  },
  {
   "cell_type": "markdown",
   "metadata": {},
   "source": []
  },
  {
   "cell_type": "code",
   "execution_count": 187,
   "metadata": {},
   "outputs": [
    {
     "name": "stdout",
     "output_type": "stream",
     "text": [
      "Post-Clean\n",
      "Columns With Nulls\n"
     ]
    },
    {
     "data": {
      "text/plain": [
       "Ozone    0\n",
       "Solar    0\n",
       "Wind     0\n",
       "Temp     0\n",
       "PM25     0\n",
       "PM10     0\n",
       "Index    0\n",
       "Month    0\n",
       "Day      0\n",
       "dtype: int64"
      ]
     },
     "execution_count": 187,
     "metadata": {},
     "output_type": "execute_result"
    }
   ],
   "source": [
    "#check nulls\n",
    "print('Post-Clean')\n",
    "print('Columns With Nulls')\n",
    "df.isnull().sum() "
   ]
  },
  {
   "cell_type": "code",
   "execution_count": 188,
   "metadata": {},
   "outputs": [
    {
     "name": "stdout",
     "output_type": "stream",
     "text": [
      "Col Means\n",
      "Ozone     42\n",
      "Solar    185\n",
      "Wind       9\n",
      "Temp      77\n",
      "PM25     100\n",
      "PM10     100\n",
      "Index      5\n",
      "Month      6\n",
      "Day       15\n",
      "dtype: int32\n"
     ]
    }
   ],
   "source": [
    "print('Col Means')\n",
    "print(df.mean().astype(int))"
   ]
  },
  {
   "cell_type": "markdown",
   "metadata": {},
   "source": [
    "Option 3: Population Mean - FillNA-Col  "
   ]
  },
  {
   "cell_type": "code",
   "execution_count": 189,
   "metadata": {},
   "outputs": [
    {
     "name": "stdout",
     "output_type": "stream",
     "text": [
      "\n",
      "*** Option 3: Population Mean - FillNA-Col ***\n"
     ]
    }
   ],
   "source": [
    "print('\\n*** Option 3: Population Mean - FillNA-Col ***')"
   ]
  },
  {
   "cell_type": "markdown",
   "metadata": {},
   "source": [
    "reading data file"
   ]
  },
  {
   "cell_type": "code",
   "execution_count": 190,
   "metadata": {},
   "outputs": [],
   "source": [
    "df = pd.read_csv('./data/airquality.csv')"
   ]
  },
  {
   "cell_type": "markdown",
   "metadata": {},
   "source": [
    "check nulls"
   ]
  },
  {
   "cell_type": "code",
   "execution_count": 191,
   "metadata": {},
   "outputs": [
    {
     "name": "stdout",
     "output_type": "stream",
     "text": [
      "Pre-Clean\n",
      "Columns With Nulls\n",
      "7\n",
      "Mean Solar\n",
      "185\n"
     ]
    }
   ],
   "source": [
    "print('Pre-Clean')\n",
    "print('Columns With Nulls')\n",
    "print(df['Solar'].isnull().sum())\n",
    "print('Mean Solar')\n",
    "vMean = int(df['Solar'].mean())\n",
    "print(vMean)"
   ]
  },
  {
   "cell_type": "markdown",
   "metadata": {},
   "source": [
    "cleen"
   ]
  },
  {
   "cell_type": "code",
   "execution_count": 192,
   "metadata": {},
   "outputs": [],
   "source": [
    "df['Solar'] = df['Solar'].fillna(df['Solar'].mean())\n",
    "df['Solar'] = df['Solar'].astype(int)"
   ]
  },
  {
   "cell_type": "markdown",
   "metadata": {},
   "source": [
    "check nulls"
   ]
  },
  {
   "cell_type": "code",
   "execution_count": 193,
   "metadata": {},
   "outputs": [
    {
     "name": "stdout",
     "output_type": "stream",
     "text": [
      "Post-Clean\n",
      "Columns With Nulls\n",
      "0\n",
      "Mean Solar\n",
      "185\n"
     ]
    }
   ],
   "source": [
    "print('Post-Clean')\n",
    "print('Columns With Nulls')\n",
    "print(df['Solar'].isnull().sum())\n",
    "print('Mean Solar')\n",
    "vMean = int(df['Solar'].mean())\n",
    "print(vMean)"
   ]
  },
  {
   "cell_type": "markdown",
   "metadata": {},
   "source": [
    "Option 4: Population Mean - using sklean.SimpleImputer() library"
   ]
  },
  {
   "cell_type": "code",
   "execution_count": 194,
   "metadata": {},
   "outputs": [
    {
     "name": "stdout",
     "output_type": "stream",
     "text": [
      "\n",
      "*** Option 4: Population Mean - Imputer-Col ***\n"
     ]
    }
   ],
   "source": [
    "print('\\n*** Option 4: Population Mean - Imputer-Col ***')"
   ]
  },
  {
   "cell_type": "markdown",
   "metadata": {},
   "source": [
    "reading data file"
   ]
  },
  {
   "cell_type": "code",
   "execution_count": 195,
   "metadata": {},
   "outputs": [],
   "source": [
    "df = pd.read_csv('./data/airquality.csv')"
   ]
  },
  {
   "cell_type": "markdown",
   "metadata": {},
   "source": [
    "check"
   ]
  },
  {
   "cell_type": "code",
   "execution_count": 196,
   "metadata": {},
   "outputs": [
    {
     "name": "stdout",
     "output_type": "stream",
     "text": [
      "Pre-Clean\n",
      "7\n",
      "Mean Solar\n",
      "185\n"
     ]
    }
   ],
   "source": [
    "print('Pre-Clean')\n",
    "print(df['Solar'].isnull().sum())\n",
    "print('Mean Solar')\n",
    "vMean = int(df['Solar'].mean())\n",
    "print(vMean)"
   ]
  },
  {
   "cell_type": "markdown",
   "metadata": {},
   "source": [
    "impute"
   ]
  },
  {
   "cell_type": "code",
   "execution_count": 197,
   "metadata": {},
   "outputs": [],
   "source": [
    "imp=SimpleImputer(missing_values=np.nan, strategy='mean')\n",
    "#print(imp)\n",
    "df['Solar']=imp.fit_transform(df[['Solar']])\n",
    "df['Solar']=df['Solar'].astype(int)"
   ]
  },
  {
   "cell_type": "markdown",
   "metadata": {},
   "source": [
    "recheck"
   ]
  },
  {
   "cell_type": "code",
   "execution_count": 198,
   "metadata": {},
   "outputs": [
    {
     "name": "stdout",
     "output_type": "stream",
     "text": [
      "PostClean\n",
      "0\n",
      "Mean Solar\n",
      "185\n"
     ]
    }
   ],
   "source": [
    "print('PostClean')\n",
    "print(df['Solar'].isnull().sum())\n",
    "print('Mean Solar')\n",
    "vMean = int(df['Solar'].mean())\n",
    "print(vMean)"
   ]
  },
  {
   "cell_type": "markdown",
   "metadata": {},
   "source": [
    "data imputation - group mean for Ozone"
   ]
  },
  {
   "cell_type": "code",
   "execution_count": 199,
   "metadata": {},
   "outputs": [
    {
     "name": "stdout",
     "output_type": "stream",
     "text": [
      "\n",
      "************************************************************\n",
      "Group Mean\n",
      "************************************************************\n"
     ]
    }
   ],
   "source": [
    "print('\\n************************************************************')\n",
    "print('Group Mean')\n",
    "print('************************************************************')"
   ]
  },
  {
   "cell_type": "markdown",
   "metadata": {},
   "source": [
    "Option 1: Group Mean - Manual"
   ]
  },
  {
   "cell_type": "code",
   "execution_count": 200,
   "metadata": {},
   "outputs": [
    {
     "name": "stdout",
     "output_type": "stream",
     "text": [
      "\n",
      "*** Option 1: Group Mean - Manual ***\n"
     ]
    }
   ],
   "source": [
    "print('\\n*** Option 1: Group Mean - Manual ***')"
   ]
  },
  {
   "cell_type": "markdown",
   "metadata": {},
   "source": [
    "reading data file"
   ]
  },
  {
   "cell_type": "code",
   "execution_count": 201,
   "metadata": {},
   "outputs": [],
   "source": [
    "df = pd.read_csv('./data/airquality.csv')"
   ]
  },
  {
   "cell_type": "markdown",
   "metadata": {},
   "source": [
    "check"
   ]
  },
  {
   "cell_type": "code",
   "execution_count": 202,
   "metadata": {},
   "outputs": [
    {
     "name": "stdout",
     "output_type": "stream",
     "text": [
      "Pre-Clean\n",
      "37\n",
      "Group Mean\n",
      "       Ozone\n",
      "Month       \n",
      "5         23\n",
      "6         29\n",
      "7         59\n",
      "8         59\n",
      "9         31\n",
      "<class 'pandas.core.frame.DataFrame'>\n"
     ]
    }
   ],
   "source": [
    "print('Pre-Clean')\n",
    "print(df.Ozone.isnull().sum())\n",
    "# creates data frame\n",
    "print('Group Mean')\n",
    "gdf = df.groupby(['Month'])[['Ozone']].mean().astype(int)\n",
    "print(gdf)\n",
    "print(type(gdf))"
   ]
  },
  {
   "cell_type": "code",
   "execution_count": 203,
   "metadata": {},
   "outputs": [
    {
     "name": "stdout",
     "output_type": "stream",
     "text": [
      "0\n",
      "5\n",
      "23\n",
      "1\n",
      "6\n",
      "29\n",
      "2\n",
      "7\n",
      "59\n",
      "3\n",
      "8\n",
      "59\n",
      "4\n",
      "9\n",
      "31\n"
     ]
    }
   ],
   "source": [
    "for i in range(0,len(gdf)):\n",
    "    print(i)    \n",
    "    # get month\n",
    "    vMonth = gdf.index[i]\n",
    "    print(vMonth)\n",
    "    #get mean\n",
    "    vMeans = gdf['Ozone'][vMonth]\n",
    "    print(vMeans)\n",
    "    # update\n",
    "    df['Ozone'] = np.where( ( (df['Ozone'].isnull() ) & (df['Month']==vMonth) ), \n",
    "                                            vMeans, df['Ozone'])\n",
    "df['Ozone'] = df['Ozone'].astype(int)"
   ]
  },
  {
   "cell_type": "markdown",
   "metadata": {},
   "source": [
    "recheck"
   ]
  },
  {
   "cell_type": "code",
   "execution_count": 204,
   "metadata": {
    "scrolled": true
   },
   "outputs": [
    {
     "name": "stdout",
     "output_type": "stream",
     "text": [
      "PostClean\n",
      "0\n",
      "\n",
      "Group Mean\n",
      "       Ozone\n",
      "Month       \n",
      "5         23\n",
      "6         29\n",
      "7         59\n",
      "8         59\n",
      "9         31\n",
      "       Ozone\n",
      "Month       \n",
      "5         23\n",
      "6         29\n",
      "7         59\n",
      "8         59\n",
      "9         31\n"
     ]
    }
   ],
   "source": [
    "print('PostClean')\n",
    "print(df.Ozone.isnull().sum())\n",
    "print('')\n",
    "# mean\n",
    "# creates data frame\n",
    "print('Group Mean')\n",
    "cdf = df.groupby(['Month'])[['Ozone']].mean().astype(int)\n",
    "print(gdf)\n",
    "print(cdf)"
   ]
  },
  {
   "cell_type": "markdown",
   "metadata": {},
   "source": [
    "Option 1: Group Mean - Lambda"
   ]
  },
  {
   "cell_type": "code",
   "execution_count": 205,
   "metadata": {},
   "outputs": [
    {
     "name": "stdout",
     "output_type": "stream",
     "text": [
      "\n",
      "*** Option 2: Group Mean - GroupBy Lambda ***\n"
     ]
    }
   ],
   "source": [
    "print('\\n*** Option 2: Group Mean - GroupBy Lambda ***')"
   ]
  },
  {
   "cell_type": "markdown",
   "metadata": {},
   "source": [
    "reading data file"
   ]
  },
  {
   "cell_type": "code",
   "execution_count": 206,
   "metadata": {},
   "outputs": [],
   "source": [
    "df = pd.read_csv('./data/airquality.csv')"
   ]
  },
  {
   "cell_type": "markdown",
   "metadata": {},
   "source": [
    "check"
   ]
  },
  {
   "cell_type": "code",
   "execution_count": 207,
   "metadata": {},
   "outputs": [
    {
     "name": "stdout",
     "output_type": "stream",
     "text": [
      "Pre-Clean\n",
      "37\n",
      "Group Mean\n",
      "       Ozone\n",
      "Month       \n",
      "5         23\n",
      "6         29\n",
      "7         59\n",
      "8         59\n",
      "9         31\n",
      "<class 'pandas.core.frame.DataFrame'>\n"
     ]
    }
   ],
   "source": [
    "print('Pre-Clean')\n",
    "print(df.Ozone.isnull().sum())\n",
    "# creates data frame\n",
    "print('Group Mean')\n",
    "gdf = df.groupby(['Month'])[['Ozone']].mean().astype(int)\n",
    "print(gdf)\n",
    "print(type(gdf))"
   ]
  },
  {
   "cell_type": "markdown",
   "metadata": {},
   "source": [
    "update"
   ]
  },
  {
   "cell_type": "code",
   "execution_count": 208,
   "metadata": {},
   "outputs": [],
   "source": [
    "df['Ozone'] = df.groupby('Month')['Ozone'].apply(lambda x:x.fillna(x.mean()))\n",
    "df['Ozone'] = df['Ozone'].astype(int)"
   ]
  },
  {
   "cell_type": "markdown",
   "metadata": {},
   "source": [
    "recheck"
   ]
  },
  {
   "cell_type": "code",
   "execution_count": 209,
   "metadata": {
    "scrolled": true
   },
   "outputs": [
    {
     "name": "stdout",
     "output_type": "stream",
     "text": [
      "PostClean\n",
      "0\n",
      "Group Mean\n",
      "       Ozone\n",
      "Month       \n",
      "5         23\n",
      "6         29\n",
      "7         59\n",
      "8         59\n",
      "9         31\n",
      "       Ozone\n",
      "Month       \n",
      "5         23\n",
      "6         29\n",
      "7         59\n",
      "8         59\n",
      "9         31\n"
     ]
    }
   ],
   "source": [
    "print('PostClean')\n",
    "print(df.Ozone.isnull().sum())\n",
    "# mean\n",
    "# creates data frame\n",
    "print('Group Mean')\n",
    "cdf = df.groupby(['Month'])[['Ozone']].mean().astype(int)\n",
    "print(gdf)\n",
    "print(cdf)"
   ]
  },
  {
   "cell_type": "markdown",
   "metadata": {},
   "source": [
    "data imputation - average for immediate up / down points - Temp"
   ]
  },
  {
   "cell_type": "code",
   "execution_count": 210,
   "metadata": {},
   "outputs": [
    {
     "name": "stdout",
     "output_type": "stream",
     "text": [
      "************************************************************\n",
      "Interpolated Mean\n",
      "************************************************************\n"
     ]
    }
   ],
   "source": [
    "print('************************************************************')\n",
    "print('Interpolated Mean')\n",
    "print('************************************************************')"
   ]
  },
  {
   "cell_type": "markdown",
   "metadata": {},
   "source": [
    "Option 1: Interpolated Mean - Manual"
   ]
  },
  {
   "cell_type": "code",
   "execution_count": 211,
   "metadata": {},
   "outputs": [
    {
     "name": "stdout",
     "output_type": "stream",
     "text": [
      "\n",
      "*** Option 1: Interpolated Mean - Manual ***\n"
     ]
    }
   ],
   "source": [
    "print('\\n*** Option 1: Interpolated Mean - Manual ***')"
   ]
  },
  {
   "cell_type": "markdown",
   "metadata": {},
   "source": [
    "reading data file"
   ]
  },
  {
   "cell_type": "code",
   "execution_count": 213,
   "metadata": {},
   "outputs": [],
   "source": [
    "df = pd.read_csv('./data/airquality.csv')"
   ]
  },
  {
   "cell_type": "markdown",
   "metadata": {},
   "source": [
    "check"
   ]
  },
  {
   "cell_type": "code",
   "execution_count": 214,
   "metadata": {},
   "outputs": [
    {
     "name": "stdout",
     "output_type": "stream",
     "text": [
      "Pre-Clean\n",
      "10\n",
      "77\n"
     ]
    }
   ],
   "source": [
    "print('Pre-Clean')\n",
    "print(df.Temp.isnull().sum())\n",
    "print(int(df['Temp'].mean()))"
   ]
  },
  {
   "cell_type": "markdown",
   "metadata": {},
   "source": [
    "handling temp"
   ]
  },
  {
   "cell_type": "code",
   "execution_count": 215,
   "metadata": {},
   "outputs": [],
   "source": [
    "i = 0\n",
    "for i in df.index:\n",
    "    # check if row,temp = null\n",
    "    if (pd.isnull(df.iloc[i,3])):\n",
    "        # get previous row value of temp\n",
    "        vLower = None\n",
    "        if i > 0:\n",
    "           vLower = df.iloc[i-1,3] \n",
    "        # get next row value of temp\n",
    "        vUpper = None\n",
    "        if i < len(df):\n",
    "           vUpper = df.iloc[i+1,3] \n",
    "        vList = [vLower, vUpper]\n",
    "        vMean = np.mean(vList).astype(int)\n",
    "        df.iloc[i,3] = vMean\n",
    "df['Temp'] = df['Temp'].astype(int)"
   ]
  },
  {
   "cell_type": "markdown",
   "metadata": {},
   "source": [
    "recheck"
   ]
  },
  {
   "cell_type": "code",
   "execution_count": 216,
   "metadata": {
    "scrolled": true
   },
   "outputs": [
    {
     "name": "stdout",
     "output_type": "stream",
     "text": [
      "PostClean\n",
      "0\n",
      "77\n"
     ]
    }
   ],
   "source": [
    "print('PostClean')\n",
    "print(df.Temp.isnull().sum())\n",
    "print(int(df['Temp'].mean()))"
   ]
  },
  {
   "cell_type": "markdown",
   "metadata": {},
   "source": [
    "Option 2: Interpolated  Mean - Interpolate-Col"
   ]
  },
  {
   "cell_type": "code",
   "execution_count": 217,
   "metadata": {},
   "outputs": [
    {
     "name": "stdout",
     "output_type": "stream",
     "text": [
      "\n",
      "*** Option 2: Interpolated  Mean - Interpolate-Col  ***\n"
     ]
    }
   ],
   "source": [
    "print('\\n*** Option 2: Interpolated  Mean - Interpolate-Col  ***')"
   ]
  },
  {
   "cell_type": "markdown",
   "metadata": {},
   "source": [
    "reading data file"
   ]
  },
  {
   "cell_type": "code",
   "execution_count": 218,
   "metadata": {},
   "outputs": [],
   "source": [
    "df = pd.read_csv('./data/airquality.csv')"
   ]
  },
  {
   "cell_type": "markdown",
   "metadata": {},
   "source": [
    "check"
   ]
  },
  {
   "cell_type": "code",
   "execution_count": 219,
   "metadata": {},
   "outputs": [
    {
     "name": "stdout",
     "output_type": "stream",
     "text": [
      "Pre-Clean\n",
      "10\n"
     ]
    }
   ],
   "source": [
    "print('Pre-Clean')\n",
    "print(df.Temp.isnull().sum())"
   ]
  },
  {
   "cell_type": "markdown",
   "metadata": {},
   "source": [
    "update"
   ]
  },
  {
   "cell_type": "code",
   "execution_count": 220,
   "metadata": {},
   "outputs": [],
   "source": [
    "df['Temp'] = df['Temp'].interpolate(method ='linear', limit_direction ='forward') \n",
    "df['Temp'] = df['Temp'].astype(int)"
   ]
  },
  {
   "cell_type": "markdown",
   "metadata": {},
   "source": [
    "recheck"
   ]
  },
  {
   "cell_type": "code",
   "execution_count": 221,
   "metadata": {},
   "outputs": [
    {
     "name": "stdout",
     "output_type": "stream",
     "text": [
      "PostClean\n",
      "0\n",
      "\n"
     ]
    }
   ],
   "source": [
    "print('PostClean')\n",
    "print(df.Temp.isnull().sum())\n",
    "print('')"
   ]
  },
  {
   "cell_type": "markdown",
   "metadata": {},
   "source": [
    "Option 3: Interpolated  Mean - Interpolate-DF"
   ]
  },
  {
   "cell_type": "code",
   "execution_count": 222,
   "metadata": {},
   "outputs": [
    {
     "name": "stdout",
     "output_type": "stream",
     "text": [
      "\n",
      "*** Option 3: Interpolated  Mean - Interpolate-DF  ***\n"
     ]
    }
   ],
   "source": [
    "print('\\n*** Option 3: Interpolated  Mean - Interpolate-DF  ***')"
   ]
  },
  {
   "cell_type": "markdown",
   "metadata": {},
   "source": [
    "reading data file"
   ]
  },
  {
   "cell_type": "code",
   "execution_count": 223,
   "metadata": {},
   "outputs": [],
   "source": [
    "df = pd.read_csv('./data/airquality.csv')"
   ]
  },
  {
   "cell_type": "markdown",
   "metadata": {},
   "source": [
    "check"
   ]
  },
  {
   "cell_type": "code",
   "execution_count": 224,
   "metadata": {},
   "outputs": [
    {
     "name": "stdout",
     "output_type": "stream",
     "text": [
      "Pre-Clean\n",
      "Ozone    37\n",
      "Solar     7\n",
      "Wind     10\n",
      "Temp     10\n",
      "PM25     10\n",
      "PM10     10\n",
      "Index    10\n",
      "Month     0\n",
      "Day       0\n",
      "dtype: int64\n"
     ]
    }
   ],
   "source": [
    "print('Pre-Clean')\n",
    "print(df.isnull().sum())"
   ]
  },
  {
   "cell_type": "markdown",
   "metadata": {},
   "source": [
    "update"
   ]
  },
  {
   "cell_type": "code",
   "execution_count": 225,
   "metadata": {},
   "outputs": [],
   "source": [
    "df = df.interpolate(method ='linear', limit_direction ='forward') \n",
    "df = df.astype(int)"
   ]
  },
  {
   "cell_type": "markdown",
   "metadata": {},
   "source": [
    "recheck"
   ]
  },
  {
   "cell_type": "code",
   "execution_count": 226,
   "metadata": {},
   "outputs": [
    {
     "name": "stdout",
     "output_type": "stream",
     "text": [
      "PostClean\n",
      "Ozone    0\n",
      "Solar    0\n",
      "Wind     0\n",
      "Temp     0\n",
      "PM25     0\n",
      "PM10     0\n",
      "Index    0\n",
      "Month    0\n",
      "Day      0\n",
      "dtype: int64\n",
      "\n"
     ]
    }
   ],
   "source": [
    "print('PostClean')\n",
    "print(df.isnull().sum())\n",
    "print('')"
   ]
  },
  {
   "cell_type": "markdown",
   "metadata": {},
   "source": [
    "data imputation - populate NAs with dummy values -1"
   ]
  },
  {
   "cell_type": "code",
   "execution_count": 227,
   "metadata": {},
   "outputs": [
    {
     "name": "stdout",
     "output_type": "stream",
     "text": [
      "************************************************************\n",
      "Populate NAs With Dummy Values\n",
      "************************************************************\n"
     ]
    }
   ],
   "source": [
    "print('************************************************************')\n",
    "print('Populate NAs With Dummy Values')\n",
    "print('************************************************************')"
   ]
  },
  {
   "cell_type": "markdown",
   "metadata": {},
   "source": [
    "Option 1: Populate All NAs In df With Dummy Value <-1> "
   ]
  },
  {
   "cell_type": "code",
   "execution_count": 228,
   "metadata": {},
   "outputs": [
    {
     "name": "stdout",
     "output_type": "stream",
     "text": [
      "\n",
      "*** Option 1:  Populate All NAs In df With Dummy Value <-1> ***\n"
     ]
    }
   ],
   "source": [
    "print('\\n*** Option 1:  Populate All NAs In df With Dummy Value <-1> ***')"
   ]
  },
  {
   "cell_type": "markdown",
   "metadata": {},
   "source": [
    "reading data file"
   ]
  },
  {
   "cell_type": "code",
   "execution_count": 229,
   "metadata": {},
   "outputs": [],
   "source": [
    "df = pd.read_csv('./data/airquality.csv')"
   ]
  },
  {
   "cell_type": "markdown",
   "metadata": {},
   "source": [
    "check NAs"
   ]
  },
  {
   "cell_type": "code",
   "execution_count": 230,
   "metadata": {},
   "outputs": [
    {
     "name": "stdout",
     "output_type": "stream",
     "text": [
      "\n",
      "*** Columns With Nulls\n",
      "Ozone    37\n",
      "Solar     7\n",
      "Wind     10\n",
      "Temp     10\n",
      "PM25     10\n",
      "PM10     10\n",
      "Index    10\n",
      "Month     0\n",
      "Day       0\n",
      "dtype: int64\n"
     ]
    }
   ],
   "source": [
    "print(\"\\n*** Columns With Nulls\")\n",
    "print(df.isnull().sum()) "
   ]
  },
  {
   "cell_type": "markdown",
   "metadata": {},
   "source": [
    "fill NaN with -1"
   ]
  },
  {
   "cell_type": "code",
   "execution_count": 231,
   "metadata": {},
   "outputs": [],
   "source": [
    "df = df.fillna(-1)"
   ]
  },
  {
   "cell_type": "markdown",
   "metadata": {},
   "source": [
    "check NAs"
   ]
  },
  {
   "cell_type": "code",
   "execution_count": 232,
   "metadata": {},
   "outputs": [
    {
     "name": "stdout",
     "output_type": "stream",
     "text": [
      "\n",
      "*** Columns With Nulls\n",
      "Ozone    0\n",
      "Solar    0\n",
      "Wind     0\n",
      "Temp     0\n",
      "PM25     0\n",
      "PM10     0\n",
      "Index    0\n",
      "Month    0\n",
      "Day      0\n",
      "dtype: int64\n"
     ]
    }
   ],
   "source": [
    "print(\"\\n*** Columns With Nulls\")\n",
    "print(df.isnull().sum()) "
   ]
  },
  {
   "cell_type": "markdown",
   "metadata": {},
   "source": [
    "Option 2: Populate All NAs In Specific Column With Dummy Value <-1>"
   ]
  },
  {
   "cell_type": "code",
   "execution_count": 233,
   "metadata": {},
   "outputs": [
    {
     "name": "stdout",
     "output_type": "stream",
     "text": [
      "\n",
      "*** Option 2: Populate All NAs In Specific Column With Dummy Value <-1> ***\n"
     ]
    }
   ],
   "source": [
    "print('\\n*** Option 2: Populate All NAs In Specific Column With Dummy Value <-1> ***')"
   ]
  },
  {
   "cell_type": "markdown",
   "metadata": {},
   "source": [
    "reading data file"
   ]
  },
  {
   "cell_type": "code",
   "execution_count": 234,
   "metadata": {},
   "outputs": [],
   "source": [
    "df = pd.read_csv('./data/airquality.csv')"
   ]
  },
  {
   "cell_type": "markdown",
   "metadata": {},
   "source": [
    "check NAs"
   ]
  },
  {
   "cell_type": "code",
   "execution_count": 235,
   "metadata": {},
   "outputs": [
    {
     "name": "stdout",
     "output_type": "stream",
     "text": [
      "\n",
      "*** Columns With Nulls\n",
      "Ozone    37\n",
      "Solar     7\n",
      "Wind     10\n",
      "Temp     10\n",
      "PM25     10\n",
      "PM10     10\n",
      "Index    10\n",
      "Month     0\n",
      "Day       0\n",
      "dtype: int64\n"
     ]
    }
   ],
   "source": [
    "print(\"\\n*** Columns With Nulls\")\n",
    "print(df.isnull().sum()) "
   ]
  },
  {
   "cell_type": "markdown",
   "metadata": {},
   "source": [
    "drop NaN"
   ]
  },
  {
   "cell_type": "code",
   "execution_count": 236,
   "metadata": {},
   "outputs": [],
   "source": [
    "df['Ozone'] = df['Ozone'].fillna(-1)"
   ]
  },
  {
   "cell_type": "markdown",
   "metadata": {},
   "source": [
    "check NAs"
   ]
  },
  {
   "cell_type": "code",
   "execution_count": 237,
   "metadata": {},
   "outputs": [
    {
     "name": "stdout",
     "output_type": "stream",
     "text": [
      "\n",
      "*** Columns With Nulls\n",
      "Ozone     0\n",
      "Solar     7\n",
      "Wind     10\n",
      "Temp     10\n",
      "PM25     10\n",
      "PM10     10\n",
      "Index    10\n",
      "Month     0\n",
      "Day       0\n",
      "dtype: int64\n"
     ]
    }
   ],
   "source": [
    "print(\"\\n*** Columns With Nulls\")\n",
    "print(df.isnull().sum()) "
   ]
  },
  {
   "cell_type": "markdown",
   "metadata": {},
   "source": [
    "data imputation - drop rows"
   ]
  },
  {
   "cell_type": "code",
   "execution_count": 238,
   "metadata": {},
   "outputs": [
    {
     "name": "stdout",
     "output_type": "stream",
     "text": [
      "************************************************************\n",
      "Drop Rows With NaNs\n",
      "************************************************************\n"
     ]
    }
   ],
   "source": [
    "print('************************************************************')\n",
    "print('Drop Rows With NaNs')\n",
    "print('************************************************************')"
   ]
  },
  {
   "cell_type": "markdown",
   "metadata": {},
   "source": [
    "Option 1: Drop Rows Any Cols with NaNs"
   ]
  },
  {
   "cell_type": "code",
   "execution_count": 239,
   "metadata": {},
   "outputs": [
    {
     "name": "stdout",
     "output_type": "stream",
     "text": [
      "\n",
      "*** Option 1: Drop Rows Any Cols with NaNs  ***\n"
     ]
    }
   ],
   "source": [
    "print('\\n*** Option 1: Drop Rows Any Cols with NaNs  ***')"
   ]
  },
  {
   "cell_type": "markdown",
   "metadata": {},
   "source": [
    "reading data file"
   ]
  },
  {
   "cell_type": "code",
   "execution_count": 240,
   "metadata": {},
   "outputs": [],
   "source": [
    "df = pd.read_csv('./data/airquality.csv')"
   ]
  },
  {
   "cell_type": "markdown",
   "metadata": {},
   "source": [
    "check NAs"
   ]
  },
  {
   "cell_type": "code",
   "execution_count": 241,
   "metadata": {},
   "outputs": [
    {
     "name": "stdout",
     "output_type": "stream",
     "text": [
      "\n",
      "*** Row Count ***\n",
      "153\n",
      "\n",
      "*** Columns With Nulls ***\n",
      "Ozone    37\n",
      "Solar     7\n",
      "Wind     10\n",
      "Temp     10\n",
      "PM25     10\n",
      "PM10     10\n",
      "Index    10\n",
      "Month     0\n",
      "Day       0\n",
      "dtype: int64\n"
     ]
    }
   ],
   "source": [
    "print(\"\\n*** Row Count ***\")\n",
    "print(len(df.index)) \n",
    "print(\"\\n*** Columns With Nulls ***\")\n",
    "print(df.isnull().sum()) "
   ]
  },
  {
   "cell_type": "markdown",
   "metadata": {},
   "source": [
    "drop NaN"
   ]
  },
  {
   "cell_type": "code",
   "execution_count": 242,
   "metadata": {},
   "outputs": [],
   "source": [
    "df = df.dropna()"
   ]
  },
  {
   "cell_type": "markdown",
   "metadata": {},
   "source": [
    "check NAs"
   ]
  },
  {
   "cell_type": "code",
   "execution_count": 243,
   "metadata": {},
   "outputs": [
    {
     "name": "stdout",
     "output_type": "stream",
     "text": [
      "\n",
      "*** Row Count ***\n",
      "95\n",
      "\n",
      "*** Columns With Nulls ***\n",
      "Ozone    0\n",
      "Solar    0\n",
      "Wind     0\n",
      "Temp     0\n",
      "PM25     0\n",
      "PM10     0\n",
      "Index    0\n",
      "Month    0\n",
      "Day      0\n",
      "dtype: int64\n"
     ]
    }
   ],
   "source": [
    "print(\"\\n*** Row Count ***\")\n",
    "print(len(df.index)) \n",
    "print(\"\\n*** Columns With Nulls ***\")\n",
    "print(df.isnull().sum()) "
   ]
  },
  {
   "cell_type": "markdown",
   "metadata": {},
   "source": [
    "Option 1: Drop Rows With Specific Cols with NaNs"
   ]
  },
  {
   "cell_type": "code",
   "execution_count": 244,
   "metadata": {},
   "outputs": [
    {
     "name": "stdout",
     "output_type": "stream",
     "text": [
      "\n",
      "*** Option 2: Drop Rows With Specific Cols with NaNs  ***\n"
     ]
    }
   ],
   "source": [
    "print('\\n*** Option 2: Drop Rows With Specific Cols with NaNs  ***')"
   ]
  },
  {
   "cell_type": "markdown",
   "metadata": {},
   "source": [
    "reading data file"
   ]
  },
  {
   "cell_type": "code",
   "execution_count": 245,
   "metadata": {},
   "outputs": [],
   "source": [
    "df = pd.read_csv('./data/airquality.csv')"
   ]
  },
  {
   "cell_type": "markdown",
   "metadata": {},
   "source": [
    "check NAs"
   ]
  },
  {
   "cell_type": "code",
   "execution_count": 246,
   "metadata": {},
   "outputs": [
    {
     "name": "stdout",
     "output_type": "stream",
     "text": [
      "\n",
      "*** Row Count ***\n",
      "153\n",
      "\n",
      "*** Columns With Nulls ***\n",
      "Ozone    37\n",
      "Solar     7\n",
      "Wind     10\n",
      "Temp     10\n",
      "PM25     10\n",
      "PM10     10\n",
      "Index    10\n",
      "Month     0\n",
      "Day       0\n",
      "dtype: int64\n"
     ]
    }
   ],
   "source": [
    "print(\"\\n*** Row Count ***\")\n",
    "print(len(df.index)) \n",
    "print(\"\\n*** Columns With Nulls ***\")\n",
    "print(df.isnull().sum()) "
   ]
  },
  {
   "cell_type": "markdown",
   "metadata": {},
   "source": [
    "drop NaN"
   ]
  },
  {
   "cell_type": "code",
   "execution_count": 247,
   "metadata": {},
   "outputs": [],
   "source": [
    "df = df.dropna(subset=['Ozone'])"
   ]
  },
  {
   "cell_type": "markdown",
   "metadata": {},
   "source": [
    "check NAs"
   ]
  },
  {
   "cell_type": "code",
   "execution_count": 248,
   "metadata": {},
   "outputs": [
    {
     "name": "stdout",
     "output_type": "stream",
     "text": [
      "\n",
      "*** Row Count ***\n",
      "116\n",
      "\n",
      "*** Columns With Nulls ***\n",
      "Ozone    0\n",
      "Solar    5\n",
      "Wind     7\n",
      "Temp     6\n",
      "PM25     9\n",
      "PM10     9\n",
      "Index    9\n",
      "Month    0\n",
      "Day      0\n",
      "dtype: int64\n"
     ]
    }
   ],
   "source": [
    "print(\"\\n*** Row Count ***\")\n",
    "print(len(df.index)) \n",
    "print(\"\\n*** Columns With Nulls ***\")\n",
    "print(df.isnull().sum()) "
   ]
  },
  {
   "cell_type": "code",
   "execution_count": null,
   "metadata": {},
   "outputs": [],
   "source": []
  },
  {
   "cell_type": "markdown",
   "metadata": {},
   "source": [
    "**Case 2:** Categorical data "
   ]
  },
  {
   "cell_type": "code",
   "execution_count": 249,
   "metadata": {},
   "outputs": [
    {
     "data": {
      "text/html": [
       "<div>\n",
       "<style scoped>\n",
       "    .dataframe tbody tr th:only-of-type {\n",
       "        vertical-align: middle;\n",
       "    }\n",
       "\n",
       "    .dataframe tbody tr th {\n",
       "        vertical-align: top;\n",
       "    }\n",
       "\n",
       "    .dataframe thead th {\n",
       "        text-align: right;\n",
       "    }\n",
       "</style>\n",
       "<table border=\"1\" class=\"dataframe\">\n",
       "  <thead>\n",
       "    <tr style=\"text-align: right;\">\n",
       "      <th></th>\n",
       "      <th>color1</th>\n",
       "      <th>color2</th>\n",
       "    </tr>\n",
       "  </thead>\n",
       "  <tbody>\n",
       "    <tr>\n",
       "      <th>0</th>\n",
       "      <td>red</td>\n",
       "      <td>red</td>\n",
       "    </tr>\n",
       "    <tr>\n",
       "      <th>1</th>\n",
       "      <td>NaN</td>\n",
       "      <td>NaN</td>\n",
       "    </tr>\n",
       "    <tr>\n",
       "      <th>2</th>\n",
       "      <td>green</td>\n",
       "      <td>green</td>\n",
       "    </tr>\n",
       "    <tr>\n",
       "      <th>3</th>\n",
       "      <td>red</td>\n",
       "      <td>gree</td>\n",
       "    </tr>\n",
       "    <tr>\n",
       "      <th>4</th>\n",
       "      <td>red</td>\n",
       "      <td>green</td>\n",
       "    </tr>\n",
       "  </tbody>\n",
       "</table>\n",
       "</div>"
      ],
      "text/plain": [
       "  color1 color2\n",
       "0    red    red\n",
       "1    NaN    NaN\n",
       "2  green  green\n",
       "3    red   gree\n",
       "4    red  green"
      ]
     },
     "execution_count": 249,
     "metadata": {},
     "output_type": "execute_result"
    }
   ],
   "source": [
    "data={ \n",
    "      \"color1\":[\"red\",np.nan,\"green\",\"red\",\"red\",\"blue\",\"red\",\"blue\",\"red\",\"red\"],\n",
    "      \"color2\":[\"red\",np.nan,\"green\",\"gree\",\"green\",\"green\",\"green\",\"blue\",\"red\",\"red\"]\n",
    "      }\n",
    "\n",
    "colorsdf=pd.DataFrame(data)\n",
    "colorsdf.head()\n"
   ]
  },
  {
   "cell_type": "code",
   "execution_count": 250,
   "metadata": {},
   "outputs": [
    {
     "name": "stdout",
     "output_type": "stream",
     "text": [
      "color1    1\n",
      "color2    1\n",
      "dtype: int64\n"
     ]
    }
   ],
   "source": [
    "print(colorsdf.isnull().sum())\n"
   ]
  },
  {
   "cell_type": "code",
   "execution_count": 251,
   "metadata": {},
   "outputs": [
    {
     "name": "stdout",
     "output_type": "stream",
     "text": [
      "color1\n",
      "blue     2\n",
      "green    1\n",
      "red      6\n",
      "Name: color1, dtype: int64\n"
     ]
    }
   ],
   "source": [
    "print(colorsdf.groupby('color1')['color1'].count())"
   ]
  },
  {
   "cell_type": "code",
   "execution_count": 252,
   "metadata": {},
   "outputs": [
    {
     "data": {
      "text/html": [
       "<div>\n",
       "<style scoped>\n",
       "    .dataframe tbody tr th:only-of-type {\n",
       "        vertical-align: middle;\n",
       "    }\n",
       "\n",
       "    .dataframe tbody tr th {\n",
       "        vertical-align: top;\n",
       "    }\n",
       "\n",
       "    .dataframe thead th {\n",
       "        text-align: right;\n",
       "    }\n",
       "</style>\n",
       "<table border=\"1\" class=\"dataframe\">\n",
       "  <thead>\n",
       "    <tr style=\"text-align: right;\">\n",
       "      <th></th>\n",
       "      <th>color1</th>\n",
       "      <th>color2</th>\n",
       "    </tr>\n",
       "  </thead>\n",
       "  <tbody>\n",
       "    <tr>\n",
       "      <th>0</th>\n",
       "      <td>red</td>\n",
       "      <td>green</td>\n",
       "    </tr>\n",
       "  </tbody>\n",
       "</table>\n",
       "</div>"
      ],
      "text/plain": [
       "  color1 color2\n",
       "0    red  green"
      ]
     },
     "execution_count": 252,
     "metadata": {},
     "output_type": "execute_result"
    }
   ],
   "source": [
    "colorsdf.mode()"
   ]
  },
  {
   "cell_type": "code",
   "execution_count": 253,
   "metadata": {},
   "outputs": [],
   "source": [
    "from sklearn.impute import SimpleImputer\n",
    "\n",
    "impobj=SimpleImputer(strategy=\"most_frequent\", missing_values=np.nan)\n",
    "colorsdf=impobj.fit_transform(colorsdf)"
   ]
  },
  {
   "cell_type": "code",
   "execution_count": 254,
   "metadata": {},
   "outputs": [
    {
     "data": {
      "text/html": [
       "<div>\n",
       "<style scoped>\n",
       "    .dataframe tbody tr th:only-of-type {\n",
       "        vertical-align: middle;\n",
       "    }\n",
       "\n",
       "    .dataframe tbody tr th {\n",
       "        vertical-align: top;\n",
       "    }\n",
       "\n",
       "    .dataframe thead th {\n",
       "        text-align: right;\n",
       "    }\n",
       "</style>\n",
       "<table border=\"1\" class=\"dataframe\">\n",
       "  <thead>\n",
       "    <tr style=\"text-align: right;\">\n",
       "      <th></th>\n",
       "      <th>0</th>\n",
       "      <th>1</th>\n",
       "    </tr>\n",
       "  </thead>\n",
       "  <tbody>\n",
       "    <tr>\n",
       "      <th>0</th>\n",
       "      <td>red</td>\n",
       "      <td>red</td>\n",
       "    </tr>\n",
       "    <tr>\n",
       "      <th>1</th>\n",
       "      <td>red</td>\n",
       "      <td>green</td>\n",
       "    </tr>\n",
       "    <tr>\n",
       "      <th>2</th>\n",
       "      <td>green</td>\n",
       "      <td>green</td>\n",
       "    </tr>\n",
       "    <tr>\n",
       "      <th>3</th>\n",
       "      <td>red</td>\n",
       "      <td>gree</td>\n",
       "    </tr>\n",
       "    <tr>\n",
       "      <th>4</th>\n",
       "      <td>red</td>\n",
       "      <td>green</td>\n",
       "    </tr>\n",
       "  </tbody>\n",
       "</table>\n",
       "</div>"
      ],
      "text/plain": [
       "       0      1\n",
       "0    red    red\n",
       "1    red  green\n",
       "2  green  green\n",
       "3    red   gree\n",
       "4    red  green"
      ]
     },
     "execution_count": 254,
     "metadata": {},
     "output_type": "execute_result"
    }
   ],
   "source": [
    "colorsdf=pd.DataFrame(colorsdf)\n",
    "colorsdf.head()"
   ]
  },
  {
   "cell_type": "code",
   "execution_count": null,
   "metadata": {},
   "outputs": [],
   "source": []
  },
  {
   "cell_type": "markdown",
   "metadata": {},
   "source": [
    "# Case 3: Time series missing data imputation"
   ]
  },
  {
   "cell_type": "code",
   "execution_count": 255,
   "metadata": {
    "scrolled": false
   },
   "outputs": [
    {
     "name": "stdout",
     "output_type": "stream",
     "text": [
      "\n",
      " dates     3\n",
      "values    0\n",
      "dtype: int64\n",
      "\n",
      "        dates  values\n",
      "0 2020-10-10       0\n",
      "1 2020-10-11       1\n",
      "2        NaT       2\n",
      "3 2020-10-13       3\n",
      "4 2020-10-14       4\n",
      "5        NaT       5\n",
      "6        NaT       6\n",
      "7 2020-10-17       7\n",
      "8 2020-10-18       8\n",
      "9 2020-10-19       9\n"
     ]
    }
   ],
   "source": [
    "df=pd.DataFrame({\"dates\":pd.date_range(start='2020-10-10',periods=10,freq='D'), \"values\":range(10)})\n",
    "df.iloc[2,0]=np.nan\n",
    "df.iloc[5:7,0]=np.nan\n",
    "\n",
    "print('\\n',df.isnull().sum())\n",
    "print('\\n',df)"
   ]
  },
  {
   "cell_type": "code",
   "execution_count": 256,
   "metadata": {
    "scrolled": true
   },
   "outputs": [
    {
     "data": {
      "text/html": [
       "<div>\n",
       "<style scoped>\n",
       "    .dataframe tbody tr th:only-of-type {\n",
       "        vertical-align: middle;\n",
       "    }\n",
       "\n",
       "    .dataframe tbody tr th {\n",
       "        vertical-align: top;\n",
       "    }\n",
       "\n",
       "    .dataframe thead th {\n",
       "        text-align: right;\n",
       "    }\n",
       "</style>\n",
       "<table border=\"1\" class=\"dataframe\">\n",
       "  <thead>\n",
       "    <tr style=\"text-align: right;\">\n",
       "      <th></th>\n",
       "      <th>dates</th>\n",
       "      <th>values</th>\n",
       "    </tr>\n",
       "  </thead>\n",
       "  <tbody>\n",
       "    <tr>\n",
       "      <th>0</th>\n",
       "      <td>2020-10-10</td>\n",
       "      <td>0</td>\n",
       "    </tr>\n",
       "    <tr>\n",
       "      <th>1</th>\n",
       "      <td>2020-10-11</td>\n",
       "      <td>1</td>\n",
       "    </tr>\n",
       "    <tr>\n",
       "      <th>2</th>\n",
       "      <td>2020-10-11</td>\n",
       "      <td>2</td>\n",
       "    </tr>\n",
       "    <tr>\n",
       "      <th>3</th>\n",
       "      <td>2020-10-13</td>\n",
       "      <td>3</td>\n",
       "    </tr>\n",
       "    <tr>\n",
       "      <th>4</th>\n",
       "      <td>2020-10-14</td>\n",
       "      <td>4</td>\n",
       "    </tr>\n",
       "    <tr>\n",
       "      <th>5</th>\n",
       "      <td>2020-10-14</td>\n",
       "      <td>5</td>\n",
       "    </tr>\n",
       "    <tr>\n",
       "      <th>6</th>\n",
       "      <td>2020-10-14</td>\n",
       "      <td>6</td>\n",
       "    </tr>\n",
       "    <tr>\n",
       "      <th>7</th>\n",
       "      <td>2020-10-17</td>\n",
       "      <td>7</td>\n",
       "    </tr>\n",
       "    <tr>\n",
       "      <th>8</th>\n",
       "      <td>2020-10-18</td>\n",
       "      <td>8</td>\n",
       "    </tr>\n",
       "    <tr>\n",
       "      <th>9</th>\n",
       "      <td>2020-10-19</td>\n",
       "      <td>9</td>\n",
       "    </tr>\n",
       "  </tbody>\n",
       "</table>\n",
       "</div>"
      ],
      "text/plain": [
       "       dates  values\n",
       "0 2020-10-10       0\n",
       "1 2020-10-11       1\n",
       "2 2020-10-11       2\n",
       "3 2020-10-13       3\n",
       "4 2020-10-14       4\n",
       "5 2020-10-14       5\n",
       "6 2020-10-14       6\n",
       "7 2020-10-17       7\n",
       "8 2020-10-18       8\n",
       "9 2020-10-19       9"
      ]
     },
     "execution_count": 256,
     "metadata": {},
     "output_type": "execute_result"
    }
   ],
   "source": [
    "#handle\n",
    "df=df.ffill()\n",
    "df"
   ]
  },
  {
   "cell_type": "code",
   "execution_count": 257,
   "metadata": {
    "scrolled": true
   },
   "outputs": [
    {
     "data": {
      "text/html": [
       "<div>\n",
       "<style scoped>\n",
       "    .dataframe tbody tr th:only-of-type {\n",
       "        vertical-align: middle;\n",
       "    }\n",
       "\n",
       "    .dataframe tbody tr th {\n",
       "        vertical-align: top;\n",
       "    }\n",
       "\n",
       "    .dataframe thead th {\n",
       "        text-align: right;\n",
       "    }\n",
       "</style>\n",
       "<table border=\"1\" class=\"dataframe\">\n",
       "  <thead>\n",
       "    <tr style=\"text-align: right;\">\n",
       "      <th></th>\n",
       "      <th>dates</th>\n",
       "      <th>values</th>\n",
       "    </tr>\n",
       "  </thead>\n",
       "  <tbody>\n",
       "    <tr>\n",
       "      <th>0</th>\n",
       "      <td>2020-10-10</td>\n",
       "      <td>0</td>\n",
       "    </tr>\n",
       "    <tr>\n",
       "      <th>1</th>\n",
       "      <td>2020-10-11</td>\n",
       "      <td>1</td>\n",
       "    </tr>\n",
       "    <tr>\n",
       "      <th>2</th>\n",
       "      <td>NaT</td>\n",
       "      <td>2</td>\n",
       "    </tr>\n",
       "    <tr>\n",
       "      <th>3</th>\n",
       "      <td>2020-10-13</td>\n",
       "      <td>3</td>\n",
       "    </tr>\n",
       "    <tr>\n",
       "      <th>4</th>\n",
       "      <td>2020-10-14</td>\n",
       "      <td>4</td>\n",
       "    </tr>\n",
       "    <tr>\n",
       "      <th>5</th>\n",
       "      <td>NaT</td>\n",
       "      <td>5</td>\n",
       "    </tr>\n",
       "    <tr>\n",
       "      <th>6</th>\n",
       "      <td>NaT</td>\n",
       "      <td>6</td>\n",
       "    </tr>\n",
       "    <tr>\n",
       "      <th>7</th>\n",
       "      <td>2020-10-17</td>\n",
       "      <td>7</td>\n",
       "    </tr>\n",
       "    <tr>\n",
       "      <th>8</th>\n",
       "      <td>2020-10-18</td>\n",
       "      <td>8</td>\n",
       "    </tr>\n",
       "    <tr>\n",
       "      <th>9</th>\n",
       "      <td>2020-10-19</td>\n",
       "      <td>9</td>\n",
       "    </tr>\n",
       "  </tbody>\n",
       "</table>\n",
       "</div>"
      ],
      "text/plain": [
       "       dates  values\n",
       "0 2020-10-10       0\n",
       "1 2020-10-11       1\n",
       "2        NaT       2\n",
       "3 2020-10-13       3\n",
       "4 2020-10-14       4\n",
       "5        NaT       5\n",
       "6        NaT       6\n",
       "7 2020-10-17       7\n",
       "8 2020-10-18       8\n",
       "9 2020-10-19       9"
      ]
     },
     "execution_count": 257,
     "metadata": {},
     "output_type": "execute_result"
    }
   ],
   "source": [
    "df=pd.DataFrame({\"dates\":pd.date_range(start='2020-10-10',periods=10,freq='D'), \"values\":range(10)})\n",
    "\n",
    "df.iloc[2,0]=np.nan\n",
    "df.iloc[5:7,0]=np.nan\n",
    "\n",
    "df.isnull().sum()\n",
    "df"
   ]
  },
  {
   "cell_type": "code",
   "execution_count": 258,
   "metadata": {
    "scrolled": true
   },
   "outputs": [
    {
     "data": {
      "text/html": [
       "<div>\n",
       "<style scoped>\n",
       "    .dataframe tbody tr th:only-of-type {\n",
       "        vertical-align: middle;\n",
       "    }\n",
       "\n",
       "    .dataframe tbody tr th {\n",
       "        vertical-align: top;\n",
       "    }\n",
       "\n",
       "    .dataframe thead th {\n",
       "        text-align: right;\n",
       "    }\n",
       "</style>\n",
       "<table border=\"1\" class=\"dataframe\">\n",
       "  <thead>\n",
       "    <tr style=\"text-align: right;\">\n",
       "      <th></th>\n",
       "      <th>dates</th>\n",
       "      <th>values</th>\n",
       "    </tr>\n",
       "  </thead>\n",
       "  <tbody>\n",
       "    <tr>\n",
       "      <th>0</th>\n",
       "      <td>2020-10-10</td>\n",
       "      <td>0</td>\n",
       "    </tr>\n",
       "    <tr>\n",
       "      <th>1</th>\n",
       "      <td>2020-10-11</td>\n",
       "      <td>1</td>\n",
       "    </tr>\n",
       "    <tr>\n",
       "      <th>2</th>\n",
       "      <td>2020-10-13</td>\n",
       "      <td>2</td>\n",
       "    </tr>\n",
       "    <tr>\n",
       "      <th>3</th>\n",
       "      <td>2020-10-13</td>\n",
       "      <td>3</td>\n",
       "    </tr>\n",
       "    <tr>\n",
       "      <th>4</th>\n",
       "      <td>2020-10-14</td>\n",
       "      <td>4</td>\n",
       "    </tr>\n",
       "    <tr>\n",
       "      <th>5</th>\n",
       "      <td>2020-10-17</td>\n",
       "      <td>5</td>\n",
       "    </tr>\n",
       "    <tr>\n",
       "      <th>6</th>\n",
       "      <td>2020-10-17</td>\n",
       "      <td>6</td>\n",
       "    </tr>\n",
       "    <tr>\n",
       "      <th>7</th>\n",
       "      <td>2020-10-17</td>\n",
       "      <td>7</td>\n",
       "    </tr>\n",
       "    <tr>\n",
       "      <th>8</th>\n",
       "      <td>2020-10-18</td>\n",
       "      <td>8</td>\n",
       "    </tr>\n",
       "    <tr>\n",
       "      <th>9</th>\n",
       "      <td>2020-10-19</td>\n",
       "      <td>9</td>\n",
       "    </tr>\n",
       "  </tbody>\n",
       "</table>\n",
       "</div>"
      ],
      "text/plain": [
       "       dates  values\n",
       "0 2020-10-10       0\n",
       "1 2020-10-11       1\n",
       "2 2020-10-13       2\n",
       "3 2020-10-13       3\n",
       "4 2020-10-14       4\n",
       "5 2020-10-17       5\n",
       "6 2020-10-17       6\n",
       "7 2020-10-17       7\n",
       "8 2020-10-18       8\n",
       "9 2020-10-19       9"
      ]
     },
     "execution_count": 258,
     "metadata": {},
     "output_type": "execute_result"
    }
   ],
   "source": [
    "#forward fill\n",
    "df=df.bfill()\n",
    "df"
   ]
  },
  {
   "cell_type": "code",
   "execution_count": null,
   "metadata": {},
   "outputs": [],
   "source": []
  },
  {
   "cell_type": "markdown",
   "metadata": {},
   "source": [
    "**End**"
   ]
  }
 ],
 "metadata": {
  "kernelspec": {
   "display_name": "Python 3",
   "language": "python",
   "name": "python3"
  },
  "language_info": {
   "codemirror_mode": {
    "name": "ipython",
    "version": 3
   },
   "file_extension": ".py",
   "mimetype": "text/x-python",
   "name": "python",
   "nbconvert_exporter": "python",
   "pygments_lexer": "ipython3",
   "version": "3.8.5"
  }
 },
 "nbformat": 4,
 "nbformat_minor": 2
}
