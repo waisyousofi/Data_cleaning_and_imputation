{
 "cells": [
  {
   "cell_type": "code",
   "execution_count": 1,
   "metadata": {},
   "outputs": [],
   "source": [
    "#imports\n",
    "import pandas as pd\n",
    "import numpy as np\n",
    "import string as st"
   ]
  },
  {
   "cell_type": "markdown",
   "metadata": {},
   "source": [
    "reading data file"
   ]
  },
  {
   "cell_type": "code",
   "execution_count": 2,
   "metadata": {},
   "outputs": [],
   "source": [
    "df = pd.read_csv(\"./data/patient-data.csv\")"
   ]
  },
  {
   "cell_type": "markdown",
   "metadata": {},
   "source": [
    "view Col Info"
   ]
  },
  {
   "cell_type": "code",
   "execution_count": 3,
   "metadata": {},
   "outputs": [
    {
     "name": "stdout",
     "output_type": "stream",
     "text": [
      "\n",
      "*** Info ***\n",
      "<class 'pandas.core.frame.DataFrame'>\n",
      "RangeIndex: 100 entries, 0 to 99\n",
      "Data columns (total 14 columns):\n",
      " #   Column       Non-Null Count  Dtype  \n",
      "---  ------       --------------  -----  \n",
      " 0   ID           100 non-null    object \n",
      " 1   Name         100 non-null    object \n",
      " 2   Race         100 non-null    object \n",
      " 3   Gender       100 non-null    object \n",
      " 4   Smokes       100 non-null    object \n",
      " 5   HeightInCms  100 non-null    float64\n",
      " 6   WeightInKgs  100 non-null    float64\n",
      " 7   BirthDate    100 non-null    object \n",
      " 8   State        100 non-null    object \n",
      " 9   Pet          96 non-null     object \n",
      " 10  Health       100 non-null    int64  \n",
      " 11  Class        100 non-null    object \n",
      " 12  Died         100 non-null    bool   \n",
      " 13  RecDate      100 non-null    object \n",
      "dtypes: bool(1), float64(2), int64(1), object(10)\n",
      "memory usage: 10.4+ KB\n",
      "None\n"
     ]
    }
   ],
   "source": [
    "print(\"\\n*** Info ***\")\n",
    "print(df.info())"
   ]
  },
  {
   "cell_type": "markdown",
   "metadata": {},
   "source": [
    "rename Class to InsStatus"
   ]
  },
  {
   "cell_type": "code",
   "execution_count": 4,
   "metadata": {},
   "outputs": [
    {
     "name": "stdout",
     "output_type": "stream",
     "text": [
      "<class 'pandas.core.frame.DataFrame'>\n",
      "RangeIndex: 100 entries, 0 to 99\n",
      "Data columns (total 14 columns):\n",
      " #   Column       Non-Null Count  Dtype  \n",
      "---  ------       --------------  -----  \n",
      " 0   ID           100 non-null    object \n",
      " 1   Name         100 non-null    object \n",
      " 2   Race         100 non-null    object \n",
      " 3   Gender       100 non-null    object \n",
      " 4   Smokes       100 non-null    object \n",
      " 5   HeightInCms  100 non-null    float64\n",
      " 6   WeightInKgs  100 non-null    float64\n",
      " 7   BirthDate    100 non-null    object \n",
      " 8   State        100 non-null    object \n",
      " 9   Pet          96 non-null     object \n",
      " 10  Health       100 non-null    int64  \n",
      " 11  InsStatus    100 non-null    object \n",
      " 12  Died         100 non-null    bool   \n",
      " 13  RecDate      100 non-null    object \n",
      "dtypes: bool(1), float64(2), int64(1), object(10)\n",
      "memory usage: 10.4+ KB\n",
      "None\n"
     ]
    }
   ],
   "source": [
    "df=df.rename(columns = {'Class':'InsStatus'})\n",
    "print(df.info())"
   ]
  },
  {
   "cell_type": "markdown",
   "metadata": {},
   "source": [
    "view Col Info"
   ]
  },
  {
   "cell_type": "code",
   "execution_count": 5,
   "metadata": {},
   "outputs": [
    {
     "name": "stdout",
     "output_type": "stream",
     "text": [
      "\n",
      "*** Summary ***\n",
      "       HeightInCms  WeightInKgs      Health\n",
      "count   100.000000    100.00000  100.000000\n",
      "mean    167.926700     74.89370    8.840000\n",
      "std       8.039584      8.55987   24.872897\n",
      "min     157.010000     63.54000    1.000000\n",
      "25%     161.522500     68.16750    1.000000\n",
      "50%     165.710000     72.26500    2.000000\n",
      "75%     174.490000     80.55500    3.000000\n",
      "max     185.430000     97.67000   99.000000\n"
     ]
    }
   ],
   "source": [
    "print(\"\\n*** Summary ***\")\n",
    "print(df.describe())"
   ]
  },
  {
   "cell_type": "markdown",
   "metadata": {},
   "source": [
    "view Data"
   ]
  },
  {
   "cell_type": "code",
   "execution_count": 6,
   "metadata": {},
   "outputs": [
    {
     "name": "stdout",
     "output_type": "stream",
     "text": [
      "\n",
      "*** Head ***\n",
      "  ID        Name   Race  Gender Smokes  HeightInCms  WeightInKgs   BirthDate  \\\n",
      "0     Demetr,ius  White    Male  FALSE       182.87        76.57  31-01-1972   \n",
      "1        Rosario  White    Male  FALSE       179.12        80.43  09-06-1972   \n",
      "2          Julio  Black    Male  FALSE       169.15        75.48  03-07-1972   \n",
      "3           Lupe  White    Male  FALSE       175.66        94.54  11-08-1972   \n",
      "4         Lavern  White  Female  FALSE       164.47        71.78  06-06-1973   \n",
      "\n",
      "          State Pet  Health InsStatus   Died     RecDate  \n",
      "0   Georgia,xxx           2         B  False  25-11-2015  \n",
      "1      Missouri           2         A  False  25-11-2015  \n",
      "2  Pennsylvania           2         A  False  25-11-2015  \n",
      "3       Florida           1         B  False  25-11-2015  \n",
      "4          Iowa           2         B   True  25-11-2015  \n"
     ]
    }
   ],
   "source": [
    "print(\"\\n*** Head ***\")\n",
    "print(df.head())"
   ]
  },
  {
   "cell_type": "markdown",
   "metadata": {},
   "source": [
    "################<br>\n",
    "checking<br>\n",
    "################"
   ]
  },
  {
   "cell_type": "markdown",
   "metadata": {},
   "source": [
    "check nulls"
   ]
  },
  {
   "cell_type": "code",
   "execution_count": 7,
   "metadata": {},
   "outputs": [
    {
     "name": "stdout",
     "output_type": "stream",
     "text": [
      "\n",
      "*** Columns With Nulls ***\n"
     ]
    },
    {
     "data": {
      "text/plain": [
       "ID             0\n",
       "Name           0\n",
       "Race           0\n",
       "Gender         0\n",
       "Smokes         0\n",
       "HeightInCms    0\n",
       "WeightInKgs    0\n",
       "BirthDate      0\n",
       "State          0\n",
       "Pet            4\n",
       "Health         0\n",
       "InsStatus      0\n",
       "Died           0\n",
       "RecDate        0\n",
       "dtype: int64"
      ]
     },
     "execution_count": 7,
     "metadata": {},
     "output_type": "execute_result"
    }
   ],
   "source": [
    "print('\\n*** Columns With Nulls ***')\n",
    "df.isnull().sum() "
   ]
  },
  {
   "cell_type": "markdown",
   "metadata": {},
   "source": [
    "check zeros"
   ]
  },
  {
   "cell_type": "code",
   "execution_count": 8,
   "metadata": {},
   "outputs": [
    {
     "name": "stdout",
     "output_type": "stream",
     "text": [
      "\n",
      "*** Columns With Zero ***\n",
      "ID              0\n",
      "Name            0\n",
      "Race            0\n",
      "Gender          0\n",
      "Smokes          0\n",
      "HeightInCms     0\n",
      "WeightInKgs     0\n",
      "BirthDate       0\n",
      "State           0\n",
      "Pet             0\n",
      "Health          0\n",
      "InsStatus       0\n",
      "Died           46\n",
      "RecDate         0\n",
      "dtype: int64\n"
     ]
    }
   ],
   "source": [
    "print('\\n*** Columns With Zero ***')\n",
    "print((df==0).sum())"
   ]
  },
  {
   "cell_type": "markdown",
   "metadata": {},
   "source": [
    "check ID"
   ]
  },
  {
   "cell_type": "code",
   "execution_count": 9,
   "metadata": {},
   "outputs": [
    {
     "name": "stdout",
     "output_type": "stream",
     "text": [
      "*** ID ***\n",
      "Null Values\n",
      "0\n",
      "\n"
     ]
    }
   ],
   "source": [
    "print(\"*** ID ***\")\n",
    "print(\"Null Values\")\n",
    "print(df['ID'].isnull().sum())\n",
    "print(\"\")"
   ]
  },
  {
   "cell_type": "markdown",
   "metadata": {},
   "source": [
    "ounts spaces of a col"
   ]
  },
  {
   "cell_type": "code",
   "execution_count": 10,
   "metadata": {},
   "outputs": [
    {
     "name": "stdout",
     "output_type": "stream",
     "text": [
      "10\n"
     ]
    }
   ],
   "source": [
    "def spaceCountcol(col):\n",
    "    return (col.str.strip().values=='').sum()\n",
    "print(spaceCountcol(df['ID']))"
   ]
  },
  {
   "cell_type": "markdown",
   "metadata": {},
   "source": [
    "ounts spaces of each col in a dataframe"
   ]
  },
  {
   "cell_type": "code",
   "execution_count": 11,
   "metadata": {},
   "outputs": [
    {
     "name": "stdout",
     "output_type": "stream",
     "text": [
      "ID           10\n",
      "Name          0\n",
      "Race          0\n",
      "Gender        0\n",
      "Smokes        0\n",
      "BirthDate     0\n",
      "State         0\n",
      "Pet           5\n",
      "InsStatus     0\n",
      "RecDate       0\n",
      "dtype: int64\n"
     ]
    },
    {
     "name": "stderr",
     "output_type": "stream",
     "text": [
      "<ipython-input-11-ddc2007f5fff>:3: DeprecationWarning: The default dtype for empty Series will be 'object' instead of 'float64' in a future version. Specify a dtype explicitly to silence this warning.\n",
      "  valseries=pd.Series()\n"
     ]
    }
   ],
   "source": [
    "def spaceCountdf(dfm):\n",
    "    cols=dfm.columns\n",
    "    valseries=pd.Series()\n",
    "    for colm in cols:\n",
    "        if(dfm[colm].dtype==\"object\"):\n",
    "            valseries[colm]=spaceCountcol(dfm[colm])\n",
    "    return valseries\n",
    "print(spaceCountdf(df))"
   ]
  },
  {
   "cell_type": "markdown",
   "metadata": {},
   "source": [
    "check Name"
   ]
  },
  {
   "cell_type": "code",
   "execution_count": 12,
   "metadata": {},
   "outputs": [
    {
     "name": "stdout",
     "output_type": "stream",
     "text": [
      "*** Name ***\n",
      "Null Values\n",
      "0\n",
      "Only Alpha Values 83\n",
      "\n"
     ]
    }
   ],
   "source": [
    "print(\"*** Name ***\")\n",
    "print(\"Null Values\")\n",
    "print(df['Name'].isnull().sum())\n",
    "print(\"Only Alpha Values\", df.Name.map(lambda v: v.isalpha()).sum())\n",
    "print(\"\")\n",
    "#out of 100 83 is valid"
   ]
  },
  {
   "cell_type": "markdown",
   "metadata": {},
   "source": [
    "check Race"
   ]
  },
  {
   "cell_type": "code",
   "execution_count": 13,
   "metadata": {},
   "outputs": [
    {
     "name": "stdout",
     "output_type": "stream",
     "text": [
      "*** Race ***\n",
      "Race\n",
      "Asian         5\n",
      "Bi-Racial     1\n",
      "Black         8\n",
      "Dog           1\n",
      "Hispanic     17\n",
      "White        68\n",
      "Name: Name, dtype: int64\n",
      "\n"
     ]
    }
   ],
   "source": [
    "print(\"*** Race ***\")\n",
    "print(df.groupby(['Race'])['Name'].count())\n",
    "print(\"\")\n",
    "#dog has to be removed"
   ]
  },
  {
   "cell_type": "markdown",
   "metadata": {},
   "source": [
    "check Gender"
   ]
  },
  {
   "cell_type": "code",
   "execution_count": 14,
   "metadata": {},
   "outputs": [
    {
     "name": "stdout",
     "output_type": "stream",
     "text": [
      "*** Gender ***\n",
      "Gender\n",
      " Female     6\n",
      " Male       3\n",
      "Female     45\n",
      "Female      4\n",
      "Male       40\n",
      "Male        2\n",
      "Name: Name, dtype: int64\n",
      "\n"
     ]
    }
   ],
   "source": [
    "print(\"*** Gender ***\")\n",
    "print(df.groupby(['Gender'])['Name'].count())\n",
    "print(\"\")\n",
    "#spaces"
   ]
  },
  {
   "cell_type": "markdown",
   "metadata": {},
   "source": [
    "check Smokes"
   ]
  },
  {
   "cell_type": "code",
   "execution_count": 15,
   "metadata": {},
   "outputs": [
    {
     "name": "stdout",
     "output_type": "stream",
     "text": [
      "*** Smokes ***\n",
      "Smokes\n",
      "FALSE    72\n",
      "No        6\n",
      "TRUE     18\n",
      "Yes       4\n",
      "Name: Name, dtype: int64\n",
      "Data Type\n",
      "object\n",
      "\n"
     ]
    }
   ],
   "source": [
    "print(\"*** Smokes ***\")\n",
    "print(df.groupby(['Smokes'])['Name'].count())\n",
    "print(\"Data Type\")\n",
    "print(df.Smokes.dtype.name)\n",
    "print(\"\")"
   ]
  },
  {
   "cell_type": "markdown",
   "metadata": {},
   "source": [
    "check HeightInCms"
   ]
  },
  {
   "cell_type": "code",
   "execution_count": 16,
   "metadata": {},
   "outputs": [
    {
     "name": "stdout",
     "output_type": "stream",
     "text": [
      "*** HeightInCms ***\n",
      "Null Values \n",
      "0\n",
      "HeightInCms Is < 160\n",
      "16\n",
      "HeightInCms Is > 180\n",
      "13\n",
      "\n"
     ]
    }
   ],
   "source": [
    "print(\"*** HeightInCms ***\")\n",
    "print(\"Null Values \")\n",
    "print(df.HeightInCms.isnull().sum())\n",
    "print(\"HeightInCms Is < 160\")\n",
    "print(df.HeightInCms[df.HeightInCms<160].count())\n",
    "print(\"HeightInCms Is > 180\")\n",
    "print(df.HeightInCms[df.HeightInCms>=180].count())\n",
    "print(\"\")"
   ]
  },
  {
   "cell_type": "markdown",
   "metadata": {},
   "source": [
    "check Height"
   ]
  },
  {
   "cell_type": "code",
   "execution_count": 17,
   "metadata": {},
   "outputs": [
    {
     "name": "stdout",
     "output_type": "stream",
     "text": [
      "*** WeightInKgs ***\n",
      "Null Values \n",
      "0\n",
      "WeightInKgs Is < 65\n",
      "5\n",
      "WeightInKgs Is > 85\n",
      "13\n",
      "\n"
     ]
    }
   ],
   "source": [
    "print(\"*** WeightInKgs ***\")\n",
    "print(\"Null Values \")\n",
    "print(df.WeightInKgs.isnull().sum())\n",
    "print(\"WeightInKgs Is < 65\")\n",
    "print(df.WeightInKgs[df.WeightInKgs<65].count())\n",
    "print(\"WeightInKgs Is > 85\")\n",
    "print(df.WeightInKgs[df.WeightInKgs>=85].count())\n",
    "print(\"\")"
   ]
  },
  {
   "cell_type": "markdown",
   "metadata": {},
   "source": [
    "check BirthDate"
   ]
  },
  {
   "cell_type": "code",
   "execution_count": 19,
   "metadata": {},
   "outputs": [
    {
     "name": "stdout",
     "output_type": "stream",
     "text": [
      "*** BirthDate ***\n",
      "<class 'str'>\n",
      "\n"
     ]
    }
   ],
   "source": [
    "print(\"*** BirthDate ***\")\n",
    "print(type(df.BirthDate[0]))\n",
    "print(\"\")"
   ]
  },
  {
   "cell_type": "markdown",
   "metadata": {},
   "source": [
    "check State"
   ]
  },
  {
   "cell_type": "code",
   "execution_count": 20,
   "metadata": {},
   "outputs": [
    {
     "name": "stdout",
     "output_type": "stream",
     "text": [
      "*** State ***\n",
      "State\n",
      "Alabama            2\n",
      "Arizona            2\n",
      "California        13\n",
      "Colorado           1\n",
      "Connecticut        1\n",
      "Florida            8\n",
      "Georgia            3\n",
      "Georgia,xxx        1\n",
      "Hawaii             2\n",
      "Illinois           2\n",
      "Illlinois          2\n",
      "Indiana            4\n",
      "Iowa               2\n",
      "Kansas             1\n",
      "Kentucky           2\n",
      "Louisiana          5\n",
      "Maryland           3\n",
      "Massachusetts      1\n",
      "Michigan           6\n",
      "Micigan            1\n",
      "Mississippi        1\n",
      "Missouri           2\n",
      "Nevada             1\n",
      "New Jersey         2\n",
      "New York           3\n",
      "North Carolina     4\n",
      "Ohio               4\n",
      "Oregon             2\n",
      "Pennsylvania       5\n",
      "South Carolina     1\n",
      "Tennessee          1\n",
      "Texas              3\n",
      "Vermont            1\n",
      "Virginia           3\n",
      "Washington         4\n",
      "Wisconsin          1\n",
      "Name: Name, dtype: int64\n",
      "\n"
     ]
    }
   ],
   "source": [
    "print(\"*** State ***\")\n",
    "print(df.groupby(['State'])['Name'].count())\n",
    "print(\"\")"
   ]
  },
  {
   "cell_type": "markdown",
   "metadata": {},
   "source": [
    "check Pet"
   ]
  },
  {
   "cell_type": "code",
   "execution_count": 21,
   "metadata": {},
   "outputs": [
    {
     "name": "stdout",
     "output_type": "stream",
     "text": [
      "*** Pet ***\n",
      "Pet\n",
      "          5\n",
      "Bird      9\n",
      "CAT       5\n",
      "Cat      23\n",
      "DOG       4\n",
      "Dog      26\n",
      "Horse     1\n",
      "NONE      1\n",
      "None     22\n",
      "Name: Name, dtype: int64\n",
      "\n"
     ]
    }
   ],
   "source": [
    "print(\"*** Pet ***\")\n",
    "print(df.groupby(['Pet'])['Name'].count())\n",
    "print(\"\")"
   ]
  },
  {
   "cell_type": "markdown",
   "metadata": {},
   "source": [
    "check health"
   ]
  },
  {
   "cell_type": "code",
   "execution_count": 22,
   "metadata": {},
   "outputs": [
    {
     "name": "stdout",
     "output_type": "stream",
     "text": [
      "*** Health ***\n",
      "Health\n",
      "1     29\n",
      "2     30\n",
      "3     34\n",
      "99     7\n",
      "Name: Name, dtype: int64\n",
      "\n"
     ]
    }
   ],
   "source": [
    "print(\"*** Health ***\")\n",
    "print(df.groupby(['Health'])['Name'].count())\n",
    "print(\"\")"
   ]
  },
  {
   "cell_type": "markdown",
   "metadata": {},
   "source": [
    "check InsStatus"
   ]
  },
  {
   "cell_type": "code",
   "execution_count": 23,
   "metadata": {},
   "outputs": [
    {
     "name": "stdout",
     "output_type": "stream",
     "text": [
      "*** InsStatus ***\n",
      "InsStatus\n",
      "A    37\n",
      "B    35\n",
      "C    28\n",
      "Name: Name, dtype: int64\n",
      "\n"
     ]
    }
   ],
   "source": [
    "print(\"*** InsStatus ***\")\n",
    "print(df.groupby(['InsStatus'])['Name'].count())\n",
    "print(\"\")"
   ]
  },
  {
   "cell_type": "markdown",
   "metadata": {},
   "source": [
    "check Died"
   ]
  },
  {
   "cell_type": "code",
   "execution_count": 24,
   "metadata": {},
   "outputs": [
    {
     "name": "stdout",
     "output_type": "stream",
     "text": [
      "*** Died ***\n",
      "Died\n",
      "False    46\n",
      "True     54\n",
      "Name: Name, dtype: int64\n",
      "\n"
     ]
    }
   ],
   "source": [
    "print(\"*** Died ***\")\n",
    "print(df.groupby(['Died'])['Name'].count())\n",
    "print(\"\")"
   ]
  },
  {
   "cell_type": "markdown",
   "metadata": {},
   "source": [
    "check dates"
   ]
  },
  {
   "cell_type": "code",
   "execution_count": 25,
   "metadata": {},
   "outputs": [
    {
     "name": "stdout",
     "output_type": "stream",
     "text": [
      "*** RecDate ***\n",
      "<class 'str'>\n",
      "\n"
     ]
    }
   ],
   "source": [
    "print(\"*** RecDate ***\")\n",
    "print(type(df.RecDate[0]))\n",
    "print(\"\")"
   ]
  },
  {
   "cell_type": "markdown",
   "metadata": {},
   "source": [
    "################<br>\n",
    "cleaning<br>\n",
    "################"
   ]
  },
  {
   "cell_type": "code",
   "execution_count": 27,
   "metadata": {},
   "outputs": [],
   "source": [
    "# get cleanName - Function\n",
    "def getCleanName(pName):\n",
    "    # print arg\n",
    "    #print(pName)\n",
    "    # clean\n",
    "    vRetVals = pName.translate(str.maketrans(\" \", \" \", st.punctuation))\n",
    "    vRetVals = vRetVals.strip()\n",
    "    return(vRetVals)  "
   ]
  },
  {
   "cell_type": "markdown",
   "metadata": {},
   "source": [
    "get cleanName - Unit Test"
   ]
  },
  {
   "cell_type": "code",
   "execution_count": 28,
   "metadata": {},
   "outputs": [
    {
     "name": "stdout",
     "output_type": "stream",
     "text": [
      "This is a test string check\n"
     ]
    }
   ],
   "source": [
    "def getCleanNameTest():\n",
    "    x = getCleanName(\"This, is. a; test: string? check!\")\n",
    "    print(x)\n",
    "getCleanNameTest()"
   ]
  },
  {
   "cell_type": "markdown",
   "metadata": {},
   "source": [
    "clean ID"
   ]
  },
  {
   "cell_type": "code",
   "execution_count": 29,
   "metadata": {},
   "outputs": [
    {
     "name": "stdout",
     "output_type": "stream",
     "text": [
      "*** ID ***\n",
      "Null Values\n",
      "0\n",
      "\n"
     ]
    }
   ],
   "source": [
    "print(\"*** ID ***\")\n",
    "print(\"Null Values\")\n",
    "print(df['ID'].isnull().sum())\n",
    "print(\"\")"
   ]
  },
  {
   "cell_type": "markdown",
   "metadata": {},
   "source": [
    "clean Name"
   ]
  },
  {
   "cell_type": "code",
   "execution_count": 30,
   "metadata": {},
   "outputs": [
    {
     "name": "stdout",
     "output_type": "stream",
     "text": [
      "*** Name ***\n",
      "*Original Count*\n",
      "Not Null Values\n",
      "100\n",
      "Only Alpha Values\n",
      "83\n"
     ]
    }
   ],
   "source": [
    "print(\"*** Name ***\")\n",
    "print(\"*Original Count*\")\n",
    "print(\"Not Null Values\")\n",
    "print(df.Name.notnull().sum())\n",
    "print(\"Only Alpha Values\")\n",
    "print(df.Name.map(lambda v: v.isalpha()).sum())"
   ]
  },
  {
   "cell_type": "code",
   "execution_count": 31,
   "metadata": {},
   "outputs": [
    {
     "name": "stdout",
     "output_type": "stream",
     "text": [
      "\n",
      "*Cleaned Count*\n",
      "Not Null Values\n",
      "100\n",
      "Only Alpha Values\n",
      "100\n"
     ]
    }
   ],
   "source": [
    "df['Name'] = df['Name'].map(lambda nm :getCleanName(nm))\n",
    "#or\n",
    "df['Name'] = [getCleanName(n) for n in df.Name]\n",
    "print(\"\")\n",
    "print(\"*Cleaned Count*\")\n",
    "print(\"Not Null Values\")\n",
    "print(df.Name.notnull().sum())\n",
    "print(\"Only Alpha Values\")\n",
    "print(df.Name.map(lambda v: v.isalpha()).sum())"
   ]
  },
  {
   "cell_type": "markdown",
   "metadata": {},
   "source": [
    "clean Race"
   ]
  },
  {
   "cell_type": "code",
   "execution_count": 32,
   "metadata": {},
   "outputs": [
    {
     "name": "stdout",
     "output_type": "stream",
     "text": [
      "*** Race ***\n",
      "*Original Count*\n",
      "Not Null Values\n",
      "100\n",
      "Race\n",
      "Asian         5\n",
      "Bi-Racial     1\n",
      "Black         8\n",
      "Dog           1\n",
      "Hispanic     17\n",
      "White        68\n",
      "Name: Name, dtype: int64\n",
      "\n",
      "*Cleaned Count*\n",
      "Not Null Values\n",
      "99\n",
      "Race\n",
      "Asian         5\n",
      "Bi-Racial     1\n",
      "Black         8\n",
      "Hispanic     17\n",
      "White        68\n",
      "Name: Name, dtype: int64\n"
     ]
    }
   ],
   "source": [
    "print(\"*** Race ***\")\n",
    "print(\"*Original Count*\")\n",
    "print(\"Not Null Values\")\n",
    "print(df.Race.notnull().sum())\n",
    "print(df.groupby(['Race'])['Name'].count())\n",
    "df['Race'] = np.where(df['Race']=='Dog',None, df['Race'])\n",
    "df['Race'] = df['Race'].str.title()\n",
    "print(\"\")\n",
    "print(\"*Cleaned Count*\")\n",
    "print(\"Not Null Values\")\n",
    "print(df.Race.notnull().sum())\n",
    "print(df.groupby(['Race'])['Name'].count())"
   ]
  },
  {
   "cell_type": "markdown",
   "metadata": {},
   "source": [
    "clean Gender"
   ]
  },
  {
   "cell_type": "code",
   "execution_count": 33,
   "metadata": {},
   "outputs": [
    {
     "name": "stdout",
     "output_type": "stream",
     "text": [
      "*** Gender ***\n",
      "*Original Count*\n",
      "Not Null Values\n",
      "100\n",
      "Gender\n",
      " Female     6\n",
      " Male       3\n",
      "Female     45\n",
      "Female      4\n",
      "Male       40\n",
      "Male        2\n",
      "Name: Name, dtype: int64\n",
      "\n",
      "*Cleaned Count*\n",
      "Not Null Values\n",
      "100\n",
      "Gender\n",
      "Female    55\n",
      "Male      45\n",
      "Name: Name, dtype: int64\n"
     ]
    }
   ],
   "source": [
    "print(\"*** Gender ***\")\n",
    "print(\"*Original Count*\")\n",
    "print(\"Not Null Values\")\n",
    "print(df.Gender.notnull().sum())\n",
    "print(df.groupby(['Gender'])['Name'].count())\n",
    "print(\"\")\n",
    "df['Gender'] = df['Gender'].str.strip()\n",
    "df['Gender'] = df['Gender'].str.title()\n",
    "print(\"*Cleaned Count*\")\n",
    "print(\"Not Null Values\")\n",
    "print(df.Gender.notnull().sum())\n",
    "print(df.groupby(['Gender'])['Name'].count())"
   ]
  },
  {
   "cell_type": "markdown",
   "metadata": {},
   "source": [
    "cleaning Smokes"
   ]
  },
  {
   "cell_type": "code",
   "execution_count": 34,
   "metadata": {},
   "outputs": [
    {
     "name": "stdout",
     "output_type": "stream",
     "text": [
      "*** Smokes ***\n",
      "*Original Count*\n",
      "Not Null Values\n",
      "100\n",
      "Smokes\n",
      "FALSE    72\n",
      "No        6\n",
      "TRUE     18\n",
      "Yes       4\n",
      "Name: Name, dtype: int64\n",
      "object\n",
      "\n",
      "object\n",
      "bool\n",
      "*Cleaned Count*\n",
      "Not Null Values\n",
      "100\n",
      "Smokes\n",
      "False    78\n",
      "True     22\n",
      "Name: Name, dtype: int64\n",
      "Data Type: \n",
      "bool\n"
     ]
    }
   ],
   "source": [
    "print(\"*** Smokes ***\")\n",
    "print(\"*Original Count*\")\n",
    "print(\"Not Null Values\")\n",
    "print(df.Smokes.notnull().sum())\n",
    "print(df.groupby(['Smokes'])['Name'].count())\n",
    "print(df['Smokes'].dtypes)\n",
    "print(\"\")\n",
    "df['Smokes'] = np.where(df['Smokes'] == 'No', False, df['Smokes'])\n",
    "df['Smokes'] = np.where(df['Smokes'] == 'Yes', True, df['Smokes'])\n",
    "df['Smokes'] = np.where(df['Smokes'] == 'FALSE', False, df['Smokes'])\n",
    "df['Smokes'] = np.where(df['Smokes'] == 'TRUE', True, df['Smokes'])\n",
    "print(df['Smokes'].dtypes)\n",
    "df['Smokes'] = df['Smokes'].astype(bool)\n",
    "print(df['Smokes'].dtypes)\n",
    "print(\"*Cleaned Count*\")\n",
    "print(\"Not Null Values\")\n",
    "print(df.Smokes.notnull().sum())\n",
    "print(df.groupby(['Smokes'])['Name'].count())\n",
    "print(\"Data Type: \")\n",
    "print(df['Smokes'].dtypes)"
   ]
  },
  {
   "cell_type": "markdown",
   "metadata": {},
   "source": [
    "check HeightInCms"
   ]
  },
  {
   "cell_type": "code",
   "execution_count": 35,
   "metadata": {},
   "outputs": [
    {
     "name": "stdout",
     "output_type": "stream",
     "text": [
      "*** HeightInCms ***\n",
      "*Original Count*\n",
      "Null Values\n",
      "0\n",
      "HeightInCms Is < 160\n",
      "16\n",
      "HeightInCms Is > 180\n",
      "13\n",
      "\n",
      "*Cleaned Count*\n",
      "Null Values\n",
      "0\n",
      "HeightInCms Is < 160\n",
      "0\n",
      "HeightInCms Is >= 180\n",
      "0\n",
      "\n"
     ]
    }
   ],
   "source": [
    "print(\"*** HeightInCms ***\")\n",
    "print(\"*Original Count*\")\n",
    "print(\"Null Values\")\n",
    "print(df.HeightInCms.isnull().sum())\n",
    "#print(\"Outlier Count\")\n",
    "#print(utils.colOutCount(df.HeightInCms))\n",
    "#print(\"Outlier Value\")\n",
    "#print(utils.colOutValues(df.HeightInCms))\n",
    "print(\"HeightInCms Is < 160\")\n",
    "print(df.HeightInCms[df.HeightInCms<160].count())\n",
    "print(\"HeightInCms Is > 180\")\n",
    "print(df.HeightInCms[df.HeightInCms>180].count())\n",
    "print(\"\")\n",
    "# clean\n",
    "df['HeightInCms'] = np.where(df['HeightInCms'] < 160, 160, df['HeightInCms'])\n",
    "df['HeightInCms'] = np.where(df['HeightInCms'] > 180, 180, df['HeightInCms'])\n",
    "# cleaned\n",
    "print(\"*Cleaned Count*\")\n",
    "print(\"Null Values\")\n",
    "print(df.HeightInCms.isnull().sum())\n",
    "#print(\"Outlier Count\")\n",
    "#print(utils.colOutCount(df.HeightInCms))\n",
    "#print(\"Outlier Value\")\n",
    "#print(utils.colOutValues(df.HeightInCms))\n",
    "print(\"HeightInCms Is < 160\")\n",
    "print(df.HeightInCms[df.HeightInCms<160].count())\n",
    "print(\"HeightInCms Is >= 180\")\n",
    "print(df.HeightInCms[df.HeightInCms>180].count())\n",
    "print(\"\")"
   ]
  },
  {
   "cell_type": "markdown",
   "metadata": {},
   "source": [
    "check WeightInKgs"
   ]
  },
  {
   "cell_type": "code",
   "execution_count": 37,
   "metadata": {},
   "outputs": [
    {
     "name": "stdout",
     "output_type": "stream",
     "text": [
      "*** WeightInKgs ***\n",
      "*Original Count*\n",
      "Null Values\n",
      "0\n",
      "WeightInKgs Is < 65\n",
      "0\n",
      "WeightInKgs Is > 85\n",
      "0\n",
      "\n",
      "*Cleaned Count*\n",
      "Null Values\n",
      "0\n",
      "WeightInKgs Is < 65\n",
      "0\n",
      "WeightInKgs Is > 85\n",
      "0\n",
      "\n"
     ]
    }
   ],
   "source": [
    "print(\"*** WeightInKgs ***\")\n",
    "print(\"*Original Count*\")\n",
    "print(\"Null Values\")\n",
    "print(df.WeightInKgs.isnull().sum())\n",
    "print(\"WeightInKgs Is < 65\")\n",
    "print(df.WeightInKgs[df.WeightInKgs<65].count())\n",
    "print(\"WeightInKgs Is > 85\")\n",
    "print(df.WeightInKgs[df.WeightInKgs>85].count())\n",
    "print(\"\")\n",
    "# clean\n",
    "df['WeightInKgs'] = np.where(df['WeightInKgs'] < 65, 65, df['WeightInKgs'])\n",
    "df['WeightInKgs'] = np.where(df['WeightInKgs'] > 85, 85, df['WeightInKgs'])\n",
    "# cleaned\n",
    "print(\"*Cleaned Count*\")\n",
    "print(\"Null Values\")\n",
    "print(df.WeightInKgs.isnull().sum())\n",
    "print(\"WeightInKgs Is < 65\")\n",
    "print(df.WeightInKgs[df.WeightInKgs<65].count())\n",
    "print(\"WeightInKgs Is > 85\")\n",
    "print(df.WeightInKgs[df.WeightInKgs>85].count())\n",
    "print(\"\")"
   ]
  },
  {
   "cell_type": "code",
   "execution_count": 57,
   "metadata": {},
   "outputs": [
    {
     "data": {
      "text/plain": [
       "pandas._libs.tslibs.timestamps.Timestamp"
      ]
     },
     "execution_count": 57,
     "metadata": {},
     "output_type": "execute_result"
    }
   ],
   "source": [
    "#converting str to date\n",
    "df['BirthDate']=pd.to_datetime(df['BirthDate'])\n",
    "type(df['BirthDate'][0])"
   ]
  },
  {
   "cell_type": "markdown",
   "metadata": {},
   "source": [
    "clean State"
   ]
  },
  {
   "cell_type": "code",
   "execution_count": 38,
   "metadata": {},
   "outputs": [
    {
     "name": "stdout",
     "output_type": "stream",
     "text": [
      "*** State ***\n",
      "*Original Count*\n",
      "Not Null Values\n",
      "100\n",
      "State\n",
      "Alabama            2\n",
      "Arizona            2\n",
      "California        13\n",
      "Colorado           1\n",
      "Connecticut        1\n",
      "Florida            8\n",
      "Georgia            3\n",
      "Georgia,xxx        1\n",
      "Hawaii             2\n",
      "Illinois           2\n",
      "Illlinois          2\n",
      "Indiana            4\n",
      "Iowa               2\n",
      "Kansas             1\n",
      "Kentucky           2\n",
      "Louisiana          5\n",
      "Maryland           3\n",
      "Massachusetts      1\n",
      "Michigan           6\n",
      "Micigan            1\n",
      "Mississippi        1\n",
      "Missouri           2\n",
      "Nevada             1\n",
      "New Jersey         2\n",
      "New York           3\n",
      "North Carolina     4\n",
      "Ohio               4\n",
      "Oregon             2\n",
      "Pennsylvania       5\n",
      "South Carolina     1\n",
      "Tennessee          1\n",
      "Texas              3\n",
      "Vermont            1\n",
      "Virginia           3\n",
      "Washington         4\n",
      "Wisconsin          1\n",
      "Name: Name, dtype: int64\n",
      "\n",
      "*Cleaned Count*\n",
      "Not Null Values\n",
      "100\n",
      "State\n",
      "Alabama            2\n",
      "Arizona            2\n",
      "California        13\n",
      "Colorado           1\n",
      "Connecticut        1\n",
      "Florida            8\n",
      "Georgia            4\n",
      "Hawaii             2\n",
      "Illinois           4\n",
      "Indiana            4\n",
      "Iowa               2\n",
      "Kansas             1\n",
      "Kentucky           2\n",
      "Louisiana          5\n",
      "Maryland           3\n",
      "Massachusetts      1\n",
      "Michigan           7\n",
      "Mississippi        1\n",
      "Missouri           2\n",
      "Nevada             1\n",
      "New Jersey         2\n",
      "New York           3\n",
      "North Carolina     4\n",
      "Ohio               4\n",
      "Oregon             2\n",
      "Pennsylvania       5\n",
      "South Carolina     1\n",
      "Tennessee          1\n",
      "Texas              3\n",
      "Vermont            1\n",
      "Virginia           3\n",
      "Washington         4\n",
      "Wisconsin          1\n",
      "Name: Name, dtype: int64\n"
     ]
    }
   ],
   "source": [
    "print(\"*** State ***\")\n",
    "print(\"*Original Count*\")\n",
    "print(\"Not Null Values\")\n",
    "print(df.State.notnull().sum())\n",
    "print(df.groupby(['State'])['Name'].count())\n",
    "print(\"\")\n",
    "df['State'] = np.where(df['State'] == 'Georgia,xxx', 'Georgia', df['State'])\n",
    "df['State'] = np.where(df['State'] == 'Illlinois', 'Illinois', df['State'])\n",
    "df['State'] = np.where(df['State'] == 'Micigan', 'Michigan', df['State'])\n",
    "df['State'] = np.where(df['State'] == 'WrongSpelling', 'RightSpelling', df['State'])\n",
    "df['State'] = df['State'].str.title()\n",
    "print(\"*Cleaned Count*\")\n",
    "print(\"Not Null Values\")\n",
    "print(df.State.notnull().sum())\n",
    "print(df.groupby(['State'])['Name'].count())"
   ]
  },
  {
   "cell_type": "markdown",
   "metadata": {},
   "source": [
    "clean Pet"
   ]
  },
  {
   "cell_type": "code",
   "execution_count": 39,
   "metadata": {},
   "outputs": [
    {
     "name": "stdout",
     "output_type": "stream",
     "text": [
      "*** Pet ***\n",
      "*Original Count*\n",
      "Not Null Values\n",
      "96\n",
      "Pet\n",
      "          5\n",
      "Bird      9\n",
      "CAT       5\n",
      "Cat      23\n",
      "DOG       4\n",
      "Dog      26\n",
      "Horse     1\n",
      "NONE      1\n",
      "None     22\n",
      "Name: Name, dtype: int64\n",
      "\n",
      "*Cleaned Count*\n",
      "Not Null Values\n",
      "96\n",
      "Pet\n",
      "          5\n",
      "Bird      9\n",
      "Cat      28\n",
      "Dog      30\n",
      "Horse     1\n",
      "None     23\n",
      "Name: Name, dtype: int64\n"
     ]
    }
   ],
   "source": [
    "print(\"*** Pet ***\")\n",
    "print(\"*Original Count*\")\n",
    "print(\"Not Null Values\")\n",
    "print(df.Pet.notnull().sum())\n",
    "print(df.groupby(['Pet'])['Name'].count())\n",
    "print(\"\")\n",
    "df['Pet'] = df['Pet'].str.title()\n",
    "print(\"*Cleaned Count*\")\n",
    "print(\"Not Null Values\")\n",
    "print(df.Pet.notnull().sum())\n",
    "print(df.groupby(['Pet'])['Name'].count())"
   ]
  },
  {
   "cell_type": "markdown",
   "metadata": {},
   "source": [
    "clean health"
   ]
  },
  {
   "cell_type": "code",
   "execution_count": 40,
   "metadata": {},
   "outputs": [
    {
     "name": "stdout",
     "output_type": "stream",
     "text": [
      "*** Health ***\n",
      "*Original Count*\n",
      "100\n",
      "Health\n",
      "1     29\n",
      "2     30\n",
      "3     34\n",
      "99     7\n",
      "Name: Name, dtype: int64\n",
      "Data Type\n",
      "int64\n",
      "*Cleaned Count*\n",
      "Not Null Values\n",
      "93\n",
      "Health\n",
      "Good Health    29\n",
      "Normal         30\n",
      "Poor Health    34\n",
      "Name: Name, dtype: int64\n",
      "\n"
     ]
    }
   ],
   "source": [
    "print(\"*** Health ***\")\n",
    "print(\"*Original Count*\")\n",
    "print(df.Health.notnull().sum())\n",
    "print(df.groupby(['Health'])['Name'].count())\n",
    "print(\"Data Type\")\n",
    "print(df['Health'].dtypes)\n",
    "df['Health'] = df['Health'].map(\n",
    "    {1: \"Good Health\", 2: \"Normal\", 3:\"Poor Health\", 99:\"Unknown\"})\n",
    "df['Health'] = np.where(df['Health'] == 'Unknown', None, df['Health'])\n",
    "print(\"*Cleaned Count*\")\n",
    "print(\"Not Null Values\")\n",
    "print(df.Health.notnull().sum())\n",
    "print(df.groupby(['Health'])['Name'].count())\n",
    "print(\"\")"
   ]
  },
  {
   "cell_type": "markdown",
   "metadata": {},
   "source": [
    "clean InsStatus"
   ]
  },
  {
   "cell_type": "code",
   "execution_count": 41,
   "metadata": {},
   "outputs": [
    {
     "name": "stdout",
     "output_type": "stream",
     "text": [
      "*** InsStatus ***\n",
      "*Original Count*\n",
      "Not Null Values\n",
      "100\n",
      "InsStatus\n",
      "A    37\n",
      "B    35\n",
      "C    28\n",
      "Name: Name, dtype: int64\n",
      "\n",
      "Data Type: \n",
      "int64\n",
      "*Cleaned Count*\n",
      "Not Null Values\n",
      "100\n",
      "InsStatus\n",
      "1    37\n",
      "2    35\n",
      "3    28\n",
      "Name: Name, dtype: int64\n",
      "\n"
     ]
    }
   ],
   "source": [
    "print(\"*** InsStatus ***\")\n",
    "print(\"*Original Count*\")\n",
    "print(\"Not Null Values\")\n",
    "print(df.InsStatus.notnull().sum())\n",
    "print(df.groupby(['InsStatus'])['Name'].count())\n",
    "print(\"\")\n",
    "# use map\n",
    "df['InsStatus'] = df['InsStatus'].map({\"A\": 1, \"B\": 2, \"C\": 3})\n",
    "print(\"Data Type: \")\n",
    "print(df['InsStatus'].dtypes)\n",
    "#df['InsStatus'] = df['InsStatus'].astype(int)\n",
    "print(\"*Cleaned Count*\")\n",
    "print(\"Not Null Values\")\n",
    "print(df.InsStatus.notnull().sum())\n",
    "print(df.groupby(['InsStatus'])['Name'].count())\n",
    "print(\"\")"
   ]
  },
  {
   "cell_type": "code",
   "execution_count": 66,
   "metadata": {},
   "outputs": [
    {
     "data": {
      "text/plain": [
       "pandas._libs.tslibs.timestamps.Timestamp"
      ]
     },
     "execution_count": 66,
     "metadata": {},
     "output_type": "execute_result"
    }
   ],
   "source": [
    "df['RecDate']=pd.to_datetime(df['RecDate'])\n",
    "type(df['RecDate'][2])"
   ]
  },
  {
   "cell_type": "markdown",
   "metadata": {},
   "source": [
    "compute BMIValue"
   ]
  },
  {
   "cell_type": "code",
   "execution_count": 67,
   "metadata": {},
   "outputs": [
    {
     "name": "stdout",
     "output_type": "stream",
     "text": [
      "*** BMIValue ***\n",
      "*Cleaned Count*\n",
      "Not Null Values\n",
      "100\n",
      "0    23.632716\n",
      "1    25.068590\n",
      "2    26.380795\n",
      "3    27.546928\n",
      "4    26.535671\n",
      "Name: BMIValue, dtype: float64\n",
      "\n"
     ]
    }
   ],
   "source": [
    "print(\"*** BMIValue ***\")\n",
    "#df = df.assign(BMIValue=df['WeightInKgs']/(df['HeightInCms']/100)**2)\n",
    "df['BMIValue'] = df['WeightInKgs'] / ( (df['HeightInCms']/100)**2 )\n",
    "print(\"*Cleaned Count*\")\n",
    "print(\"Not Null Values\")\n",
    "print(df.BMIValue.notnull().sum())\n",
    "print(df['BMIValue'].head())\n",
    "print(\"\")"
   ]
  },
  {
   "cell_type": "markdown",
   "metadata": {},
   "source": [
    "compute BMILabel"
   ]
  },
  {
   "cell_type": "code",
   "execution_count": 69,
   "metadata": {},
   "outputs": [
    {
     "name": "stdout",
     "output_type": "stream",
     "text": [
      "*** BMILabel ***\n",
      "*Cleaned Count*\n",
      "Not Null Values\n",
      "100\n",
      "BMILabel\n",
      "Normal        20\n",
      "Obese          1\n",
      "Overweight    79\n",
      "Name: Name, dtype: int64\n",
      "0        Normal\n",
      "1    Overweight\n",
      "2    Overweight\n",
      "3    Overweight\n",
      "4    Overweight\n",
      "Name: BMILabel, dtype: object\n",
      "\n"
     ]
    }
   ],
   "source": [
    "print(\"*** BMILabel ***\")\n",
    "df['BMILabel'] = \"\"\n",
    "df['BMILabel'] = np.where(df['BMIValue']  < 18.5 , 'Underweight', \n",
    "                    np.where((df['BMIValue'] < 25 ) , 'Normal', \n",
    "                    np.where((df['BMIValue'] < 30) , 'Overweight', \n",
    "                    \"Obese\")))\n",
    "print(\"*Cleaned Count*\")\n",
    "print(\"Not Null Values\")\n",
    "print(df.BMILabel.notnull().sum())\n",
    "print(df.groupby(['BMILabel'])['Name'].count())\n",
    "print(df['BMILabel'].head())\n",
    "print(\"\")"
   ]
  },
  {
   "cell_type": "markdown",
   "metadata": {},
   "source": [
    "write cleaned data into file"
   ]
  },
  {
   "cell_type": "code",
   "execution_count": 70,
   "metadata": {},
   "outputs": [],
   "source": [
    "df.to_csv(\"./data/patient-data-cleaned.csv\", index=False)"
   ]
  },
  {
   "cell_type": "code",
   "execution_count": null,
   "metadata": {},
   "outputs": [],
   "source": []
  },
  {
   "cell_type": "markdown",
   "metadata": {},
   "source": [
    "***End***"
   ]
  }
 ],
 "metadata": {
  "kernelspec": {
   "display_name": "Python 3",
   "language": "python",
   "name": "python3"
  },
  "language_info": {
   "codemirror_mode": {
    "name": "ipython",
    "version": 3
   },
   "file_extension": ".py",
   "mimetype": "text/x-python",
   "name": "python",
   "nbconvert_exporter": "python",
   "pygments_lexer": "ipython3",
   "version": "3.8.5"
  }
 },
 "nbformat": 4,
 "nbformat_minor": 2
}
